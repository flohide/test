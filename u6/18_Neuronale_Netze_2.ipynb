{
  "cells": [
    {
      "cell_type": "markdown",
      "metadata": {
        "id": "1B3TfOaicqCI"
      },
      "source": [
        "<figure>\n",
        "  <IMG SRC=\"https://upload.wikimedia.org/wikipedia/commons/thumb/d/d5/Fachhochschule_Südwestfalen_20xx_logo.svg/320px-Fachhochschule_Südwestfalen_20xx_logo.svg.png\" WIDTH=250 ALIGN=\"right\">\n",
        "</figure>\n",
        "\n",
        "# Machine Learning\n",
        "### Sommersemester 2025\n",
        "Prof. Dr. Stefan Goetze"
      ]
    },
    {
      "cell_type": "markdown",
      "metadata": {
        "id": "hTKRTmcfcqCL"
      },
      "source": [
        "# Rückblick Logistic Regression\n",
        "\n",
        "In diesem Aufgabenblatt wollen wir nochmal auf die Logistische Regression zurückblicken und aus dem Linearen Modell ein eifaches neuronales Netz herleiten.\n",
        "Dazu schauen wir uns nochmal im Detail an, wie die Modell- und Kostenfunktionen der logistischen Regression aufgebaut sind und implementieren das Gradientenverfahren zur Minimierung der Kostenfunktion per Hand (d.h. mit Python bzw. NumPy)."
      ]
    },
    {
      "cell_type": "code",
      "execution_count": 12,
      "metadata": {
        "id": "FXcj0MjWcqCM"
      },
      "outputs": [],
      "source": [
        "import numpy as np\n",
        "from sklearn.model_selection import train_test_split\n",
        "from sklearn.datasets import load_breast_cancer\n",
        "from sklearn.preprocessing import MinMaxScaler\n",
        "import matplotlib.pyplot as plt"
      ]
    },
    {
      "cell_type": "code",
      "execution_count": 5,
      "metadata": {
        "id": "E3VTWHgicqCO"
      },
      "outputs": [],
      "source": [
        "# Test Case\n",
        "m_c, n_c = 20, 4\n",
        "np.random.seed(0)\n",
        "X_c = np.random.randn(m_c, n_c)\n",
        "theta0_c, theta1_c = 0, np.random.randn(n_c, 1)\n",
        "y_c = np.random.randn(m_c, 1)"
      ]
    },
    {
      "cell_type": "markdown",
      "metadata": {
        "id": "JowkwquAcqCO"
      },
      "source": [
        "Bei der Logistischen Regression haben wir das Gradientenverfahren benutzt, um die Parameter unseres Modells, einer linearen Funktion $$Z = f_{\\Theta}(x)=\\Theta_0+\\Theta_1x$$ transformiert durch die Aktivierungsfunktion $$\\hat y = h_{\\Theta}(x) = \\sigma(Z) = \\frac{1}{1+e^{-Z}}$$ schrittweise zu verbessern.\n",
        "Die Verbesserung, bzw. die Qualität des Modells, haben wir anhand der Kostenfunktion $$J_{\\Theta}(x)=-\\frac{1}{m} \\sum\\limits_{i = 1}^{m} [y^{(i)}\\log(\\hat y^{(i)}) + (1-y^{(i)})\\log(1- \\hat y^{(i)})]$$ berechnet."
      ]
    },
    {
      "cell_type": "markdown",
      "metadata": {
        "id": "7nb3t3bgcqCP"
      },
      "source": [
        "## Modellfunktion\n",
        "**Aufgabe: Schreibe eine Funktion $f$, die folgende Parameter erhält:**\n",
        "1. Die Matrix $X \\in \\mathbb{R}^{m\\times{}n}$, die die Datenpunkte des Trainigsdatensatzes enthält.\n",
        "2. Die Parameter $\\Theta$. Dabei ist der Bias Parameter $\\Theta_0$ ein skalarer Wert, $\\Theta_1$ hingegen ein Vektor aus $\\mathbb{R}^n$, in Numpy also mit der Dimension `(n, 1)`.\n",
        "\n",
        "**$f$ soll folgende lineare Funktion implementieren:** $$Z = f_{\\Theta}(X)=\\Theta_0+X\\Theta_1$$\n",
        "\n",
        "*Hinweis: Denken Sie daran, dass Matrix-Multiplikationen in NumPy mit dem @-Operator implementiert werden können.**\n"
      ]
    },
    {
      "cell_type": "code",
      "execution_count": 6,
      "metadata": {
        "deletable": false,
        "nbgrader": {
          "grade": false,
          "grade_id": "cell-a46e169efb324584",
          "locked": false,
          "schema_version": 3,
          "solution": true,
          "task": false
        },
        "id": "7r_NkiMUcqCQ"
      },
      "outputs": [],
      "source": [
        "def f(X, theta0, theta1):\n",
        "    \"\"\"evaluates linear function.\\n\"\n",
        "    Arguments:\\n\",\n",
        "        X: value\\n\",\n",
        "        theta0: Bias\\n\",\n",
        "        theta1: Function slope\\n\",\n",
        "    \"\"\"\n",
        "    Z=theta0+X @ theta1\n",
        "    return Z\n"
      ]
    },
    {
      "cell_type": "code",
      "execution_count": 7,
      "metadata": {
        "deletable": false,
        "editable": false,
        "nbgrader": {
          "grade": true,
          "grade_id": "cell-798b7b367b206c2f",
          "locked": true,
          "points": 1,
          "schema_version": 3,
          "solution": false,
          "task": false
        },
        "id": "93JZJTC7cqCQ"
      },
      "outputs": [],
      "source": [
        "# Test Cell\n",
        "#----------\n",
        "\n",
        "Z = f(X_c, theta0_c, theta1_c)\n",
        "#----------\n",
        "# f\n",
        "\n",
        "assert Z.shape == (m_c, 1), 'Use correctly sequenced matrix multiplication'\n",
        "assert np.isclose(Z[0], -4.68171, atol=0.001), 'Expected -4.68171 but got %.5f' %Z[0]\n",
        "\n",
        "del Z"
      ]
    },
    {
      "cell_type": "markdown",
      "metadata": {
        "id": "sNfSsH2QcqCR"
      },
      "source": [
        "**Aufgabe: Implementieren Sie die Perzepton-Fuinkion $h$. Die Funktion $h$ soll die gleichen Parameter wie $f$ erhalten und die Funktion $f$ intern aufrufen. Das Ergebnis von $f$ soll durch die Sigmoid-Aktivierungsfunktion transformiert werden.:** $$\\hat y = h_{\\Theta}(x) = \\sigma(Z) = \\frac{1}{1+e^{-Z}}$$\n",
        "\n",
        "*Hinweis: Die Exponentialfunktion angewendet auf ein Argument $z$ können Sie in NumPy mit dem Methodenaufruf `np.exp(z)` berechnen.*"
      ]
    },
    {
      "cell_type": "code",
      "execution_count": 11,
      "metadata": {
        "deletable": false,
        "nbgrader": {
          "grade": false,
          "grade_id": "cell-aed34bc92bba34fb",
          "locked": false,
          "schema_version": 3,
          "solution": true,
          "task": false
        },
        "id": "_9F_ExsCcqCR"
      },
      "outputs": [],
      "source": [
        "def h(X, theta0, theta1):\n",
        "    \"\"\"returns the sigmoid of the linear function.\n",
        "    Arguments:\\n\",\n",
        "        X: Data\\n\",\n",
        "        theta0: Bias\\n\",\n",
        "        theta1: Function slope\\n\",\n",
        "    \"\"\"\n",
        "    Z=f(X, theta0, theta1)\n",
        "    y_hat= 1/(1+np.exp(-Z))\n",
        "    return y_hat\n"
      ]
    },
    {
      "cell_type": "code",
      "execution_count": 12,
      "metadata": {
        "deletable": false,
        "editable": false,
        "nbgrader": {
          "grade": true,
          "grade_id": "cell-3680cf0b32123e22",
          "locked": true,
          "points": 1,
          "schema_version": 3,
          "solution": false,
          "task": false
        },
        "id": "wzffXVrCcqCS"
      },
      "outputs": [],
      "source": [
        "# Test Cell\n",
        "#----------\n",
        "\n",
        "y_hat = h(X_c, theta0_c, theta1_c)\n",
        "#----------\n",
        "# h\n",
        "\n",
        "assert y_hat.shape == (m_c, 1)\n",
        "assert np.isclose(y_hat[0], 0.00918, atol=0.001), 'Expected 0.00918 but got %.5f' %y_hat[0]\n",
        "\n",
        "del y_hat"
      ]
    },
    {
      "cell_type": "markdown",
      "metadata": {
        "id": "ffzyZbF9cqCS"
      },
      "source": [
        "## Kostenfunktion\n",
        "\n",
        "**Aufgabe: Berechnen Sie nun die Kostenfunktion. Schreiben Sie eine Funktion $J$, die folgende Parameter erhält:**\n",
        "1. Die Matrix $X \\in \\mathbb{R}^{m\\times{}n}$, die die Datenpunkte des Trainigsdatensatzes enthält. .\n",
        "2. Die Parameter $\\Theta$. Dabei ist der Bias Parameter $\\Theta_0$ ein skalarer Wert, $\\Theta_1$ hingegen ein Vektor aus $\\mathbb{R}^n$, in Numpy also mit der Dimension `(n, 1)`.\n",
        "3. Die Label $y$ in der Größe des Datensatzes `(m, 1)`.\n",
        "\n",
        "**$J$ berechnet die folgende Kostenfunktion:** $$J_{\\Theta}(x)=-\\frac{1}{m} \\sum\\limits_{i = 1}^{m} [y^{(i)}\\log(\\hat y^{(i)}) + (1-y^{(i)})\\log(1- \\hat y^{(i)})]$$\n",
        "\n",
        "\n",
        "*Hinweis: Sie können die Summe in zwei Teilsummen aufteilen und so die Berechnung vektorisieren:*\n",
        "\n",
        " $$-\\frac{1}{m} \\sum\\limits_{i = 1}^{m} [y^{(i)}\\log(\\hat y^{(i)}) + (1-y^{(i)})\\log(1- \\hat y^{(i)})] = -\\frac{1}{m}  \\left( \\sum\\limits_{i = 1}^{m} y^{(i)}\\log(\\hat y^{(i)}) + \\sum\\limits_{i = 1}^{m}(1-y^{(i)})\\log(1- \\hat y^{(i)})\\right)$$\n",
        "\n",
        "*und $\\sum\\limits_{i = 1}^{m} y^{(i)}\\log(\\hat y^{(i)})$ ist einfach das Skalarprodukt aus $y$ und $\\log(\\hat y)$.*\n",
        "\n",
        "*Den natürlichen Logarithmus von `x` berechnen Sie in NumPy mit `np.log(x)`, das Skalarprodukt mit `np.dot(a,b)` oder, falls `a` und `b` (2-dimensionale) Spaltenvektoren sind, einfach mit der Matrizenmultiplikation `a.T@b` (`a` wird transponiert, um einen Zeilenvektor zu erhalten).*\n",
        "\n"
      ]
    },
    {
      "cell_type": "code",
      "execution_count": 13,
      "metadata": {
        "deletable": false,
        "nbgrader": {
          "grade": false,
          "grade_id": "cell-2441e8b76f6c8b3b",
          "locked": false,
          "schema_version": 3,
          "solution": true,
          "task": false
        },
        "id": "Vv2bU-XqcqCS"
      },
      "outputs": [],
      "source": [
        "def J(X,theta0, theta1, y):\n",
        "  \"\"\"computes the Cross-entropy cost function\\n\",\n",
        "  Arguments:\n",
        "  X: Data\n",
        "  theta0: Bias\n",
        "  theta1: Function slope\n",
        "  y: True labels\n",
        "  \"\"\"\n",
        "  y_hat=h(X, theta0, theta1)\n",
        "  m=np.shape(y_c)[0]\n",
        "  J=-1/(m)*(y.T@(np.log(y_hat))+(1-y).T@(np.log(1-y_hat)))\n",
        "  return J.squeeze()"
      ]
    },
    {
      "cell_type": "code",
      "execution_count": 14,
      "metadata": {
        "deletable": false,
        "editable": false,
        "nbgrader": {
          "grade": true,
          "grade_id": "cell-6d386b0ed985b5a1",
          "locked": true,
          "points": 1,
          "schema_version": 3,
          "solution": false,
          "task": false
        },
        "id": "dgXBduHGcqCS"
      },
      "outputs": [],
      "source": [
        "# Test Cell\n",
        "#----------\n",
        "\n",
        "cost = J(X_c,theta0_c,theta1_c,y_c)\n",
        "#----------\n",
        "# J\n",
        "\n",
        "assert cost.shape == (), 'Use correctly sequenced matrix multiplication'\n",
        "assert np.isclose(cost, 1.49867, atol=0.001), 'Expected 0.66739 but got %.5f' %cost\n",
        "\n",
        "del cost"
      ]
    },
    {
      "cell_type": "markdown",
      "metadata": {
        "id": "PhE77uROcqCS"
      },
      "source": [
        "## Gradientenverfahren\n",
        "\n",
        "**Schreiben Sie für das Gradientenverfahren eine Funktion `grads`, die folgende Parameter erhält**\n",
        "1. Die Matrix $X \\in \\mathbb{R}^{m\\times{}n}$, die die Datenpunkte des Trainigsdatensatzes enthält. .\n",
        "2. Die Parameter $\\Theta$. Dabei ist der Bias Parameter $\\Theta_0$ ein skalarer Wert, $\\Theta_1$ hingegen ein Vektor aus $\\mathbb{R}^n$, in Numpy also mit der Dimension `(n, 1)`.\n",
        "3. Die Label $y$ in der Größe des Datensatzes `(m, 1)`.\n",
        "\n",
        "**und den Fradienten $\\partial\\theta$ für die Parameter $\\theta$ berechnet**\n",
        "\n",
        "Dabei ist $\\partial\\theta_0$ ein Skalar der dem Gradienten des Bias Parameters entspricht: $$\\partial\\theta_0 = \\frac{1}{m} \\sum_{i=1}^m (\\hat y^{(i)}-y^{(i)})$$\n",
        "\n",
        "$\\partial\\theta_1$ ist ein Vektor der Dimension `(n, 1)` mit den Gradienten der anderen Parameter: $$ \\partial \\theta_1 = \\frac{1}{m}X^T(\\hat y-y)$$"
      ]
    },
    {
      "cell_type": "code",
      "execution_count": 15,
      "metadata": {
        "deletable": false,
        "nbgrader": {
          "grade": false,
          "grade_id": "cell-467565ebb154795c",
          "locked": false,
          "schema_version": 3,
          "solution": true,
          "task": false
        },
        "id": "FAkkRxKtcqCT"
      },
      "outputs": [],
      "source": [
        "def grads(X,theta0, theta1,y):\n",
        "    \"\"\"Calculates grads of the cost function with respect to the parameters.\n",
        "    Arguments:\n",
        "        X: Data\n",
        "        theta0: Bias\n",
        "        theta1: Function slope\n",
        "        y: True labels\n",
        "    \"\"\"\n",
        "    y_hat=h(X, theta0, theta1)\n",
        "    m=np.shape(y_c)[0]\n",
        "    dtheta0=(1/m*np.sum(y_hat-y))\n",
        "    dtheta1=1/m*X.T@(y_hat-y)\n",
        "    return dtheta0, dtheta1"
      ]
    },
    {
      "cell_type": "code",
      "execution_count": 16,
      "metadata": {
        "deletable": false,
        "editable": false,
        "nbgrader": {
          "grade": true,
          "grade_id": "cell-d5aaa7214b2dfbcd",
          "locked": true,
          "points": 1,
          "schema_version": 3,
          "solution": false,
          "task": false
        },
        "id": "fXjWGvW_cqCT"
      },
      "outputs": [],
      "source": [
        "# Test Cell\n",
        "#----------\n",
        "\n",
        "dt0, dt1 = grads(X_c,theta0_c,theta1_c,y_c)\n",
        "#----------\n",
        "# grads\n",
        "\n",
        "assert dt0.shape == (), 'theta0 should be a scaler'\n",
        "assert dt1.shape == theta1_c.shape\n",
        "assert np.isclose(dt1[0], -0.22445, atol=0.001), 'Expected -0.22445 but got %.5f' %dt1[0]"
      ]
    },
    {
      "cell_type": "markdown",
      "metadata": {
        "id": "IV9Nk0U_cqCT"
      },
      "source": [
        "**Aufgabe: Schreiben Sie nun eine Funktion, die die Modellparameter aufgrund der berechneten Gradienten aktualisiert.Die Funktion `update`erhält die Parameter $\\theta$, die Gradienten $\\partial \\theta$ sowie die Lernrate $\\alpha$ und berechnet:**\n",
        "\n",
        "$$\\theta = \\theta - \\alpha \\cdot \\partial \\theta$$"
      ]
    },
    {
      "cell_type": "code",
      "execution_count": 17,
      "metadata": {
        "deletable": false,
        "nbgrader": {
          "grade": false,
          "grade_id": "cell-9c9c665b5ef00354",
          "locked": false,
          "schema_version": 3,
          "solution": true,
          "task": false
        },
        "id": "I50ckp6YcqCT"
      },
      "outputs": [],
      "source": [
        "def update(theta0, theta1,dtheta0, dtheta1, alpha):\n",
        "  \"\"\"updates parameters using gradient decent updating rule.\"\"\"\n",
        "\n",
        "  theta0=theta0-alpha*dtheta0\n",
        "  theta1=theta1-alpha*dtheta1\n",
        "  return theta0, theta1\n"
      ]
    },
    {
      "cell_type": "code",
      "execution_count": 18,
      "metadata": {
        "deletable": false,
        "editable": false,
        "nbgrader": {
          "grade": true,
          "grade_id": "cell-628e4db830095cf8",
          "locked": true,
          "points": 1,
          "schema_version": 3,
          "solution": false,
          "task": false
        },
        "id": "VMgbMdY6cqCT"
      },
      "outputs": [],
      "source": [
        "# Test Cell\n",
        "#----------\n",
        "\n",
        "t0, t1 = update(theta0_c, theta1_c,dt0, dt1, 0.1)\n",
        "#----------\n",
        "# update\n",
        "\n",
        "assert t0.shape == (), 'theta0 should be a scaler'\n",
        "assert t1.shape == theta1_c.shape\n",
        "assert np.isclose(t1[0], -1.14270, atol=0.001), 'Expected -0.141491 but got %.5f' %t1[0]\n",
        "del t0, t1, dt0, dt1"
      ]
    },
    {
      "cell_type": "markdown",
      "metadata": {
        "id": "vUL--wh2cqCT"
      },
      "source": [
        "Nun können wir das iterative Gradientenverfahren programmieren.\n",
        "\n",
        "**Aufgabe: Schreiben Sie eine Funktion `gradient_descent`, die folgende Parameter erhät:**\n",
        "1. Die Matrix $X \\in \\mathbb{R}^{m\\times{}n}$, die die Datenpunkte des Trainigsdatensatzes enthält. .\n",
        "2. Die Parameter $\\Theta$. Dabei ist der Bias Parameter $\\Theta_0$ ein skalarer Wert, $\\Theta_1$ hingegen ein Vektor aus $\\mathbb{R}^n$, in Numpy also mit der Dimension `(n, 1)`.\n",
        "3. Die Label $y$ in der Größe des Datensatzes `(m, 1)`.\n",
        "4. Die Lernrate $\\alpha$.\n",
        "5. Die Anzahl der Iterationen.\n",
        "**Die Funktion soll die Trainierten Modellparameter $\\theta$ zurückgeben.**\n",
        "\n",
        "*Hinweis*: Berechnen Sie Kosten mit der Funktion `J` und hängen Sie diese Kosten nach jedem BErechnungsschritt and die Liste `cost` an --> Berechnen Sie die Gradienten mit der Funktion `grads` --> Verwenden Sie diese Gradienten um die Parameter mit der Funktion `optim`"
      ]
    },
    {
      "cell_type": "code",
      "execution_count": 19,
      "metadata": {
        "deletable": false,
        "nbgrader": {
          "grade": false,
          "grade_id": "cell-c950a15eb73cda45",
          "locked": false,
          "schema_version": 3,
          "solution": true,
          "task": false
        },
        "id": "wlht8nExcqCT"
      },
      "outputs": [],
      "source": [
        "def gradient_decent(X, theta0, theta1, y, alpha=0.1, iterations=400):\n",
        "    \"\"\"performs gradient decent optimization.\n",
        "    Arguments:\n",
        "        X: Data\n",
        "        theta0: Bias\n",
        "        theta1: Function slope\n",
        "        y: True labels\n",
        "        alpha(default=0.1): Learning rate\n",
        "        iterations(default=400): number of updating iterations\n",
        "    \"\"\"\n",
        "\n",
        "    costs = []\n",
        "\n",
        "    for i in range(iterations):\n",
        "      J_cost=J(X, theta0, theta1, y)\n",
        "      costs.append(J_cost)\n",
        "      gradss=grads(X, theta0, theta1, y)\n",
        "      theta0, theta1=update(theta0, theta1, gradss[0], gradss[1], alpha)\n",
        "    return theta0, theta1, costs\n",
        "\n",
        "\n",
        "    return theta0, theta1, costs"
      ]
    },
    {
      "cell_type": "code",
      "execution_count": 20,
      "metadata": {
        "deletable": false,
        "editable": false,
        "nbgrader": {
          "grade": true,
          "grade_id": "cell-9e057a811aa97078",
          "locked": true,
          "points": 1,
          "schema_version": 3,
          "solution": false,
          "task": false
        },
        "id": "g_1kqb5fcqCT"
      },
      "outputs": [],
      "source": [
        "# Test Cell\n",
        "#----------\n",
        "\n",
        "t0, t1, costs = gradient_decent(X_c, theta0_c, theta1_c, y_c)\n",
        "#----------\n",
        "# gradient_decent\n",
        "\n",
        "assert len(costs) == 400, 'Make sure to calculate and append the cost in every iteration.'\n",
        "assert np.isclose(t1[3], 2.93724, atol=0.001), 'Expected 1.05186 but got %.5f' %t1[3]\n",
        "\n",
        "del t0, t1, costs"
      ]
    },
    {
      "cell_type": "markdown",
      "metadata": {
        "id": "ogwUySgqcqCT"
      },
      "source": [
        "## Beispiel\n",
        "\n",
        "Wir habe nun alle Funktionen um unser Perzeptron für einen *echten* Datensatz zu einzusetzen.\n",
        "Wir verwenden hier den Brustkrebs-Datensatz aus Sklearn:"
      ]
    },
    {
      "cell_type": "code",
      "execution_count": 21,
      "metadata": {
        "id": "sCsjQk5acqCT"
      },
      "outputs": [],
      "source": [
        "scaler = MinMaxScaler()\n",
        "data = load_breast_cancer()\n",
        "\n",
        "X_train, X_test, y_train, y_test = train_test_split(data.data,data.target,test_size=0.3)\n",
        "\n",
        "# preprocessing\n",
        "X_train = scaler.fit_transform(X_train)\n",
        "X_test = scaler.transform(X_test)\n",
        "y_train = np.expand_dims(y_train, 1)\n",
        "y_test = np.expand_dims(y_test, 1)"
      ]
    },
    {
      "cell_type": "code",
      "execution_count": 22,
      "metadata": {
        "colab": {
          "base_uri": "https://localhost:8080/"
        },
        "id": "Rn5W20f3cqCU",
        "outputId": "96ac5bf4-5d01-4f34-9c1f-0c56cbe2a789"
      },
      "outputs": [
        {
          "output_type": "stream",
          "name": "stderr",
          "text": [
            "<ipython-input-13-f37980db79cd>:11: RuntimeWarning: divide by zero encountered in log\n",
            "  J=-1/(m)*(y.T@(np.log(y_hat))+(1-y).T@(np.log(1-y_hat)))\n",
            "<ipython-input-13-f37980db79cd>:11: RuntimeWarning: invalid value encountered in matmul\n",
            "  J=-1/(m)*(y.T@(np.log(y_hat))+(1-y).T@(np.log(1-y_hat)))\n"
          ]
        }
      ],
      "source": [
        "# initializing parameters\n",
        "theta0 = 0.\n",
        "theta1 = np.zeros((len(X_train[0]), 1))\n",
        "\n",
        "#training the model\n",
        "theta0, theta1, costs = gradient_decent(X_train, theta0, theta1, y_train.reshape(-1, 1), alpha = 2)"
      ]
    },
    {
      "cell_type": "code",
      "execution_count": 23,
      "metadata": {
        "colab": {
          "base_uri": "https://localhost:8080/",
          "height": 430
        },
        "id": "A6aW1Xv-cqCU",
        "outputId": "207885bc-c90a-4e93-9a0f-999c31449cc3"
      },
      "outputs": [
        {
          "output_type": "display_data",
          "data": {
            "text/plain": [
              "<Figure size 640x480 with 1 Axes>"
            ],
            "image/png": "[encoded data removed]"
          },
          "metadata": {}
        }
      ],
      "source": [
        "plt.plot(range(1,len(costs)),costs[1:], \"x-\")\n",
        "plt.show()"
      ]
    },
    {
      "cell_type": "code",
      "execution_count": 24,
      "metadata": {
        "colab": {
          "base_uri": "https://localhost:8080/"
        },
        "id": "CINDXuXxcqCU",
        "outputId": "47d3e647-046a-4d7e-8d5b-11f53e633b3f"
      },
      "outputs": [
        {
          "output_type": "stream",
          "name": "stdout",
          "text": [
            "Die classifcation accuracy ist:  98.83040935672514\n"
          ]
        }
      ],
      "source": [
        "# measuring performance\n",
        "y_pred = (h(X_test,theta0, theta1) >= 0.5)*1\n",
        "acc = 100-np.sum(np.abs(y_pred-y_test))*100/len(y_test)\n",
        "\n",
        "\n",
        "print(\"Die classifcation accuracy ist: \",acc)"
      ]
    },
    {
      "cell_type": "markdown",
      "metadata": {
        "id": "4TP8Ai-tcqCU"
      },
      "source": [
        "# Neurale Netze\n",
        "\n",
        "Bisher haben wir ein Perzeptron betrachtet, also eine Art Neuronales Netz mit nur einer Schicht. Die gleichen Methoden können wir aber auch für mehrschichtige Neuronale Netze verwenden."
      ]
    },
    {
      "cell_type": "markdown",
      "metadata": {
        "id": "xOvrgYUDcqCU"
      },
      "source": [
        "## Forward Pass\n",
        "\n",
        "![](https://github.com/fh-swf-hgi/ml/raw/main/u6/nn-matrices.png)\n",
        "\n",
        "**Die Lineare Funktion $f$ unserer Netzwerkschicht erhält folgende Parameter:**\n",
        "1. Die Matrix $A \\in \\mathbb{R}^{n^{[i]}\\times{}m}$, mit den Eingabedaten der Netzwerkschicht $i$. Die Zeilen von $A$ enthalten die einzelnen Datenpunkte. Die Spalten von $A$ entsprechend den Merkmalen (und damit den Parametern) eines voll-vermaschten Neurons der aktuellen Schicht.\n",
        "2. Einem Vektor $b \\in \\mathbb{R}^{n^{[i]}}$ mit den Bias Parametern der Netzwerkschicht $i$.\n",
        "3. Die Matrix $W \\in \\mathbb{R}^{n^{[i-1]}\\times{}n^{[i]}}$ mit den Gewichten der Netzwerkschicht $i$.\n",
        "\n",
        "**und liefert folgendes Ergebnis $Z$ zurück:** $$Z = f_{\\Theta}(A)= b + AW$$\n"
      ]
    },
    {
      "cell_type": "code",
      "execution_count": 1,
      "metadata": {
        "id": "5Ex9xZAucqCU"
      },
      "outputs": [],
      "source": [
        "def f(A, b, W):\n",
        "    \"\"\"evaluates linear function.\n",
        "    Arguments:\n",
        "        A: Layer input data\n",
        "        b: Biases vector\n",
        "        W: Weights matrix\n",
        "    \"\"\"\n",
        "    Z = b + A@W\n",
        "    cache = (A, b, W) # wir merken uns die Werte A, b, und W in jeder Schicht des netzes\n",
        "\n",
        "    return Z, cache"
      ]
    },
    {
      "cell_type": "markdown",
      "metadata": {
        "id": "6gMZm0MycqCU"
      },
      "source": [
        "**Als Aktivierungsfunktion verwenden wir die (nichtlineare) Sigmoid-Funktion.\n",
        "Die Funktion erhält die gleichen Parameter wie  `f` und ruft `f` auch intern auf:**\n",
        "$$A^{[i+1]}= h_{\\Theta}(A^{[i]}) = \\sigma(Z) = \\frac{1}{1+e^{-Z}}$$"
      ]
    },
    {
      "cell_type": "code",
      "execution_count": 2,
      "metadata": {
        "id": "9uDJnam3cqCU"
      },
      "outputs": [],
      "source": [
        "def h(A, b, W):\n",
        "    \"\"\"computes the sigmoid of the linear function.\n",
        "    Arguments:\n",
        "        A: Layer input data\n",
        "        b: Biases vector\n",
        "        W: Weights matrix\n",
        "    \"\"\"\n",
        "\n",
        "    Z, Zcache = f(A, b, W)\n",
        "    A = 1.0 / (1.0+np.exp(-Z))\n",
        "    cache = (Zcache, Z) # Zu der Eingabe der Schicht merken wir uns im cache den wert der linearen Funktion f\n",
        "\n",
        "    return A, cache"
      ]
    },
    {
      "cell_type": "markdown",
      "metadata": {
        "id": "kj1rgXUMcqCU"
      },
      "source": [
        "Wie die Abbildung oben zeigt, ist die Größe des Netzes durch die Anzahl der Neuronen auf jeder Schicht festgelegt.\n",
        "Kennt man die Anzahl der Neuronen, kann man die Parameter-Matrizen $W$ und die Vektoren für die Bias Parameter $b$ initialisieren:"
      ]
    },
    {
      "cell_type": "code",
      "execution_count": 3,
      "metadata": {
        "id": "Sy1fzp5TcqCU"
      },
      "outputs": [],
      "source": [
        "def init(dims):\n",
        "    \"\"\"returns initial weights and biases.\"\"\"\n",
        "    #dims = [X,L1,L2,...,y]\n",
        "    b = []\n",
        "    W = []\n",
        "\n",
        "    for l in range(1, len(dims)):\n",
        "        b.append(np.zeros((1, dims[l])))\n",
        "        W.append(np.random.randn(dims[l-1], dims[l])*0.01) # to break symmetry, it's good to have non-zero weights\n",
        "\n",
        "    return b, W"
      ]
    },
    {
      "cell_type": "markdown",
      "metadata": {
        "id": "x5BkEZeUcqCU"
      },
      "source": [
        "Da wir nun die Modellfunktionen für die einezelnen Schichten erstellt haben (und unser Netzwerk auf allen Schichten die gleiche Aktivierungsfunktion nutzt), können wir nun recht einfach eine Funktion für den gesamten **Forward Pass** definieren.\n",
        "Die Funktion `forward` erhält als Parameter die Eingabedaten `X`, sowie **Listen** der Bias-Parameter und der Modellparameter für die einzelnen Schichten. Beachten Sie, dass jedes Element der Listen einen Vektor, bzw. eine Matrix mit den Parametern einer Schicht enthält.\n",
        "Die Länge dieser Listen entspricht also der Tiefe des Neuronalen Netzes."
      ]
    },
    {
      "cell_type": "code",
      "execution_count": 4,
      "metadata": {
        "id": "ZnpZ1HV8cqCV"
      },
      "outputs": [],
      "source": [
        "def forward(X, b, W):\n",
        "    \"\"\"Performs a forward propagation through all layers.\n",
        "    returns the output layer and cache of intermidiates.\n",
        "    \"\"\"\n",
        "\n",
        "    caches = []\n",
        "    A = X\n",
        "\n",
        "    for l in range(len(b)):\n",
        "        A_prev = A\n",
        "        A, cache = h(A_prev, b[l], W[l])\n",
        "        # Hänge den cache jeder Schicht an die Liste Caches an\n",
        "        caches.append(cache)\n",
        "\n",
        "    return A, caches"
      ]
    },
    {
      "cell_type": "markdown",
      "metadata": {
        "id": "-roy1cDBcqCV"
      },
      "source": [
        "Nachdem wir am Ende des Forward Passes unsere Schätzung berechnet haben, müssen wir für diese Schätzung die Kosten berechnen.\n",
        "Die Funktion `J` erhält folgende Parameter:\n",
        "1. Die vom Modell vorhergesagten Label $\\hat{y}$ in der Größe des Datensatzes (1, m)\n",
        "3. Die tatsächlichen Label unseres Datensatzes $y$, ebenfalls in der Größe (1, m)\n",
        "\n",
        "**Als Kostenfunktion verwenden wir wie schon bei der Logistischen Regression die Kreuzentropie:**\n",
        "$$J(W,b)-\\frac{1}{m} \\sum\\limits_{i = 1}^{m} [y^{(i)}\\log(\\hat{y}^{(i)}) + (1-y^{(i)})\\log(1- \\hat{y}^{(i)})]$$"
      ]
    },
    {
      "cell_type": "code",
      "execution_count": 5,
      "metadata": {
        "id": "orTcAIe_cqCV"
      },
      "outputs": [],
      "source": [
        "def J(y_pred, y):\n",
        "    \"\"\"evaluates Cross-entropy cost function.\"\"\"\n",
        "    J = -(y.T@np.log(y_pred) + ((1.0-y.T)@np.log(1.0-y_pred)))/len(y)\n",
        "\n",
        "    return J"
      ]
    },
    {
      "cell_type": "markdown",
      "metadata": {
        "id": "cv3KZos_cqCa"
      },
      "source": [
        "## Backpropagation\n",
        "\n",
        "Der Backpropagation (zu dt. *Fehlerrückführung*) Algorithmus ist ein Spezialfall des Gradientenverfahrens und das am meisten eingesetzte Verfahren zum Trainieren neuronaler Netze.\n",
        "\n",
        "Um Backpropagation zu implementieren definieren wir eine Funktion mit folgenden Parametern:\n",
        "1. Den Gradienten der Kosten nach der Aktivierungsfunktion ($\\partial A$)\n",
        "2. Die zwischengespeicherten Werten $f$ und $h$ der Aktivierungs- und Übertragungsfunktionen aus dem Forward Pass.\n",
        "\n",
        "Zurückgeliefert werden die Gradienten $\\partial b, \\partial W, und \\partial A_{prev}$:\n",
        "\n",
        "$\\partial b$ ist ein Vektor mit den Gradienten der Bias Parameter: $$\\partial b = \\frac{1}{m} \\sum_{i=1}^m (\\partial z^{(i)})$$\n",
        "\n",
        "\n",
        "$\\partial W$ ist eine Matrix mit den Gradienten der Gewichte: $$ \\partial W = \\frac{1}{m}A_{prev}^T\\partial Z$$\n",
        "\n",
        "$\\partial A_{prev}$ ist der Grantient der Kostenfunktion bezüglich der Aktivierungsfunktion $A$ der nächstvorderen Schicht:  $$\\partial A_{prev} = \\frac{1}{m}\\partial ZW^T$$\n",
        "\n"
      ]
    },
    {
      "cell_type": "code",
      "execution_count": 6,
      "metadata": {
        "id": "X9LviAq8cqCa"
      },
      "outputs": [],
      "source": [
        "def back(dA, cache):\n",
        "    \"\"\"calculates grads w.r.t. linear function.\"\"\"\n",
        "\n",
        "    Zcache, Z = cache\n",
        "\n",
        "    sigma = 1/(1+np.exp(-Z))\n",
        "    dZ = dA * sigma * (1-sigma)\n",
        "\n",
        "    A_prev, b, W = Zcache\n",
        "\n",
        "    m = len(A_prev[0])\n",
        "    db = np.sum(dZ, axis=0, keepdims=True)/m\n",
        "    dW = (A_prev.T@dZ)/m\n",
        "    dA_prev = (dZ@W.T)/m\n",
        "\n",
        "    return dA_prev, db, dW"
      ]
    },
    {
      "cell_type": "markdown",
      "metadata": {
        "id": "f6npWiYQcqCa"
      },
      "source": [
        "**Wir können nun die Funktion `back` auf allen Schichten des Modells, beginnend mit der Ausgabeschicht und endend auf der Eingabeschicht aufrufen.**"
      ]
    },
    {
      "cell_type": "code",
      "execution_count": 7,
      "metadata": {
        "id": "2U1q016_cqCa"
      },
      "outputs": [],
      "source": [
        "def grads(y_hat, y, caches):\n",
        "    \"\"\"performs backprobagation through all layers to calculate grads of all parameters.\"\"\"\n",
        "\n",
        "    db = []\n",
        "    dW = []\n",
        "\n",
        "    dA = -(y/y_hat - (1-y)/(1-y_hat)) # Gradient der Kostenfunktion auf der Ausgabeschicht\n",
        "\n",
        "    for l in reversed(range(len(caches))):\n",
        "        # Backward step\n",
        "        dA, db_, dW_ = back(dA, caches[l])\n",
        "\n",
        "        db.insert(0, db_)\n",
        "        dW.insert(0, dW_)\n",
        "\n",
        "    return db, dW"
      ]
    },
    {
      "cell_type": "markdown",
      "metadata": {
        "id": "L2AdmYgscqCa"
      },
      "source": [
        "## Optimization\n",
        "\n",
        "Für das Gradientenverfahren benötigen wir noch eine Funktion, die uns die Parameter jeder Schicht, basierend auf den berechneten Gradienten anpasst.\n",
        "Diese Funktion `optim` erhält als Parameter:\n",
        "1. Die Parameter des Neuronalen Netzes ($b, W$),\n",
        "2. die Gradienten der einzelnen Schichten ($\\partial b, \\partial W$)\n",
        "3. sowie die Lernrate $\\alpha$.\n",
        "\n",
        "Die Funktion liefert die aktualisierten Parameter ($b, W$) zurück."
      ]
    },
    {
      "cell_type": "code",
      "execution_count": 8,
      "metadata": {
        "id": "mcJVBReTcqCa"
      },
      "outputs": [],
      "source": [
        "def optim(parameters, grads, alpha):\n",
        "    \"\"\"updates parameters using gradient decent updating rule.\"\"\"\n",
        "\n",
        "    b, W = parameters\n",
        "    db, dW = grads\n",
        "\n",
        "    for l in range(len(b)):\n",
        "        b[l] = b[l] - alpha*db[l]\n",
        "        W[l] = W[l] - alpha*dW[l]\n",
        "\n",
        "    return b, W"
      ]
    },
    {
      "cell_type": "markdown",
      "metadata": {
        "id": "92GTSuXHcqCa"
      },
      "source": [
        "## Ein Modell Trainieren\n",
        "\n",
        "Wir können nun unser selbst programmiertes MLP Netzwerk mit einem echten Datensatz trainieren. Wir verwenden hier den bekannten MNIST Datensatz."
      ]
    },
    {
      "cell_type": "code",
      "execution_count": 9,
      "metadata": {
        "id": "3N96FYhscqCa"
      },
      "outputs": [],
      "source": [
        "try:\n",
        "    from tensorflow.keras import datasets , utils\n",
        "except:\n",
        "    import sys\n",
        "    !{sys.executable} -m pip install --upgrade pip\n",
        "    !{sys.executable} -m pip install tensorflow\n",
        "    #!{sys.executable} -m pip install tensorflow-macos tensorflow-metal\n",
        "    from tensorflow.keras import datasets , utils"
      ]
    },
    {
      "cell_type": "code",
      "execution_count": 10,
      "metadata": {
        "colab": {
          "base_uri": "https://localhost:8080/"
        },
        "id": "EdMoV78WcqCb",
        "outputId": "9e9f9dd9-e57f-4f58-bfca-db9518b78df1"
      },
      "outputs": [
        {
          "output_type": "stream",
          "name": "stdout",
          "text": [
            "Downloading data from https://storage.googleapis.com/tensorflow/tf-keras-datasets/mnist.npz\n",
            "\u001b[1m11490434/11490434\u001b[0m \u001b[32m━━━━━━━━━━━━━━━━━━━━\u001b[0m\u001b[37m\u001b[0m \u001b[1m0s\u001b[0m 0us/step\n"
          ]
        }
      ],
      "source": [
        "#Importing MNIST from tensorflow dataset liabrary\n",
        "\n",
        "(X_train, y_train), (X_test, y_test) = datasets.mnist.load_data()"
      ]
    },
    {
      "cell_type": "markdown",
      "metadata": {
        "id": "6a3q_WLucqCb"
      },
      "source": [
        "Wenn wir den Datensatz geladen haben, können wir uns einige Beispiele der Daten anzeigen lassen:"
      ]
    },
    {
      "cell_type": "code",
      "execution_count": 13,
      "metadata": {
        "colab": {
          "base_uri": "https://localhost:8080/",
          "height": 177
        },
        "id": "bVqDzGPVcqCb",
        "outputId": "6c8371e4-d759-4d5d-82ed-d781b6118fd7"
      },
      "outputs": [
        {
          "output_type": "display_data",
          "data": {
            "text/plain": [
              "<Figure size 1800x300 with 10 Axes>"
            ],
            "image/png": "[encoded data removed]"
          },
          "metadata": {}
        }
      ],
      "source": [
        "fig, ax = plt.subplots(1, 10, figsize=(18,3))\n",
        "\n",
        "for i in range(10):\n",
        "    ax[i].set_title('Image label: %d' %i)\n",
        "    ax[i].axis('off')\n",
        "    ax[i].imshow(X_train[y_train == i][0], cmap='gray')\n",
        "plt.show()"
      ]
    },
    {
      "cell_type": "markdown",
      "metadata": {
        "id": "M9GybQwpcqCb"
      },
      "source": [
        "Für unser MLP Netzwerk machen wir aus den $28\\times{}28$ Pixel großen Bildern der Ziffern eindimensionale Vektoren der Länge $748$."
      ]
    },
    {
      "cell_type": "code",
      "execution_count": 14,
      "metadata": {
        "colab": {
          "base_uri": "https://localhost:8080/"
        },
        "id": "hQDR5dcmcqCb",
        "outputId": "9157c3ef-2d91-4f89-c4dc-0c4871ccc32a"
      },
      "outputs": [
        {
          "output_type": "stream",
          "name": "stdout",
          "text": [
            "Vorher: (60000, 28, 28)\n",
            "Nachher: (60000, 784)\n"
          ]
        }
      ],
      "source": [
        "# preprocessing\n",
        "print(\"Vorher:\", X_train.shape)\n",
        "X_train = X_train.reshape(-1, 28*28)/255\n",
        "X_test = X_test.reshape(-1, 28*28)/255\n",
        "y_train = utils.to_categorical(y_train)\n",
        "y_test = utils.to_categorical(y_test)\n",
        "print(\"Nachher:\", X_train.shape)"
      ]
    },
    {
      "cell_type": "markdown",
      "metadata": {
        "id": "9GiEkiy2cqCb"
      },
      "source": [
        "Nun stellen wir aus allen zuvor definierten Funktionen unser Modell auf:"
      ]
    },
    {
      "cell_type": "code",
      "execution_count": 15,
      "metadata": {
        "id": "nGhZp-SpcqCb"
      },
      "outputs": [],
      "source": [
        "def model(X, y, layers_dims, alpha = 0.01, epoch = 20, batch_size = 400):\n",
        "    \"\"\"MLP, das die Softmax-Kostenfunktion mit dem Gradientenverfahren optimiert.\n",
        "    X: Eingabedatem\n",
        "    y: Labels\n",
        "    layers_dims: Liste mit en Dimensionen der Schichten\n",
        "    alpha(default = 0.01): Lernrate\n",
        "    epoch(default = 20): Anzahl der zu trainierenden Epochen\n",
        "    batch_size(default = 400): Größe eines Minibatches\n",
        "    \"\"\"\n",
        "\n",
        "    costs = []\n",
        "    parameters = init(layers_dims)\n",
        "    b, W = parameters\n",
        "\n",
        "    for i in range(epoch):\n",
        "\n",
        "        for batch in range(0,len(y),batch_size):\n",
        "            y_hat, caches = forward(X[batch:batch+batch_size], b, W)\n",
        "            cost = J(y_hat, y[batch:batch+batch_size])\n",
        "            gradss = grads(y_hat, y[batch:batch+batch_size], caches)\n",
        "            parameters = optim(parameters, gradss, alpha)\n",
        "            b, W = parameters\n",
        "\n",
        "        costs.append(cost.item(0))\n",
        "        print(f'Epoch {i}: {cost.item(0)}')\n",
        "\n",
        "    plt.plot(range(1,len(costs)),costs[1:], \"x-\")\n",
        "    plt.show()\n",
        "    return parameters"
      ]
    },
    {
      "cell_type": "code",
      "execution_count": 16,
      "metadata": {
        "colab": {
          "base_uri": "https://localhost:8080/",
          "height": 777
        },
        "id": "9sEAZsa3cqCb",
        "outputId": "189f64b8-a045-471a-8ac9-1002e92d2450"
      },
      "outputs": [
        {
          "output_type": "stream",
          "name": "stdout",
          "text": [
            "Epoch 0: 0.060287553814951246\n",
            "Epoch 1: 0.05095891631877713\n",
            "Epoch 2: 0.04675483760431854\n",
            "Epoch 3: 0.04421629126356605\n",
            "Epoch 4: 0.042466192723098935\n",
            "Epoch 5: 0.041160340606772976\n",
            "Epoch 6: 0.04013259974344578\n",
            "Epoch 7: 0.03929204624885275\n",
            "Epoch 8: 0.03858442353616849\n",
            "Epoch 9: 0.037975212457469286\n",
            "Epoch 10: 0.037441329022720585\n",
            "Epoch 11: 0.03696670496036814\n",
            "Epoch 12: 0.036539779618891044\n",
            "Epoch 13: 0.03615200107999935\n",
            "Epoch 14: 0.0357968912421721\n",
            "Epoch 15: 0.03546944123546464\n",
            "Epoch 16: 0.03516570816273644\n",
            "Epoch 17: 0.03488253879990386\n",
            "Epoch 18: 0.03461737576723645\n",
            "Epoch 19: 0.0343681186867221\n"
          ]
        },
        {
          "output_type": "display_data",
          "data": {
            "text/plain": [
              "<Figure size 640x480 with 1 Axes>"
            ],
            "image/png": "[encoded data removed]"
          },
          "metadata": {}
        }
      ],
      "source": [
        "trained_weights_10 = model(X_train, y_train, [28*28, 10], 0.5)"
      ]
    },
    {
      "cell_type": "code",
      "execution_count": 17,
      "metadata": {
        "id": "Wz1c9m5wcqCc"
      },
      "outputs": [],
      "source": [
        "class mlp_model:\n",
        "\n",
        "    def __init__(self, X, y, layers_dims):\n",
        "        \"\"\"MLP Modell\n",
        "        X: Eingabedatem\n",
        "        y: Labels\n",
        "        layers_dims: Liste mit en Dimensionen der Schichten\n",
        "        \"\"\"\n",
        "        self.X = X\n",
        "        self.y = y\n",
        "        self.costs = []\n",
        "        self.parameters = init(layers_dims)\n",
        "\n",
        "    def fit(self, alpha = 0.01, epoch = 20, batch_size = 400):\n",
        "        \"\"\"MLP, das die Softmax-Kostenfunktion mit dem Gradientenverfahren optimiert.\n",
        "        alpha(default = 0.01): Lernrate\n",
        "        epoch(default = 20): Anzahl der zu trainierenden Epochen\n",
        "        batch_size(default = 400): Größe eines Minibatches\n",
        "        \"\"\"\n",
        "\n",
        "        b, W = self.parameters\n",
        "\n",
        "        for i in range(epoch):\n",
        "\n",
        "            for batch in range(0,len(self.y),batch_size):\n",
        "                y_hat, caches = forward(self.X[batch:batch+batch_size], b, W)\n",
        "                cost = J(y_hat, self.y[batch:batch+batch_size])\n",
        "                gradss = grads(y_hat, self.y[batch:batch+batch_size], caches)\n",
        "                self.parameters = optim(self.parameters, gradss, alpha)\n",
        "                b, W = self.parameters\n",
        "\n",
        "            self.costs.append(cost.item(0))\n",
        "            print(f'Epoch {i}: {cost.item(0):.5}')\n",
        "\n",
        "        plt.plot(range(1,len(self.costs)),self.costs[1:], \"x-\")\n",
        "        plt.show()\n",
        "        return self.parameters\n",
        "\n",
        "    def predict(self, X):\n",
        "        \"\"\"Vorhersagefunktion für das trainierte Modell.\"\"\"\n",
        "\n",
        "        b, W = self.parameters\n",
        "        y_pred, _ = forward(X, b, W)\n",
        "\n",
        "        return (y_pred>=0.5)*1\n",
        "\n",
        "    def accuracy(y_test, y_pred_0):\n",
        "        return 100-np.sum(np.abs(y_pred_0-y_test))*100/len(y_test)"
      ]
    },
    {
      "cell_type": "code",
      "execution_count": 18,
      "metadata": {
        "colab": {
          "base_uri": "https://localhost:8080/",
          "height": 777
        },
        "id": "OsLJDH58cqCc",
        "outputId": "226f57d3-16f7-4575-c4f0-8916afd72e31"
      },
      "outputs": [
        {
          "output_type": "stream",
          "name": "stdout",
          "text": [
            "Epoch 0: 0.06081\n",
            "Epoch 1: 0.051314\n",
            "Epoch 2: 0.047019\n",
            "Epoch 3: 0.044423\n",
            "Epoch 4: 0.042634\n",
            "Epoch 5: 0.041299\n",
            "Epoch 6: 0.040249\n",
            "Epoch 7: 0.039391\n",
            "Epoch 8: 0.03867\n",
            "Epoch 9: 0.038049\n",
            "Epoch 10: 0.037505\n",
            "Epoch 11: 0.037023\n",
            "Epoch 12: 0.036589\n",
            "Epoch 13: 0.036195\n",
            "Epoch 14: 0.035835\n",
            "Epoch 15: 0.035503\n",
            "Epoch 16: 0.035195\n",
            "Epoch 17: 0.034908\n",
            "Epoch 18: 0.03464\n",
            "Epoch 19: 0.034388\n"
          ]
        },
        {
          "output_type": "display_data",
          "data": {
            "text/plain": [
              "<Figure size 640x480 with 1 Axes>"
            ],
            "image/png": "[encoded data removed]"
          },
          "metadata": {}
        }
      ],
      "source": [
        "model_10 = mlp_model(X_train, y_train, [28*28, 10])\n",
        "trained_weights_10 = model_10.fit(0.5)"
      ]
    },
    {
      "cell_type": "code",
      "execution_count": 19,
      "metadata": {
        "colab": {
          "base_uri": "https://localhost:8080/"
        },
        "id": "MzLJeVwhcqCc",
        "outputId": "8171221f-882a-4ce5-a897-8b49c72663ea"
      },
      "outputs": [
        {
          "output_type": "execute_result",
          "data": {
            "text/plain": [
              "np.float64(79.87)"
            ]
          },
          "metadata": {},
          "execution_count": 19
        }
      ],
      "source": [
        "y_pred_10 = model_10.predict(X_test)\n",
        "mlp_model.accuracy(y_test, y_pred_10)"
      ]
    },
    {
      "cell_type": "code",
      "execution_count": 20,
      "metadata": {
        "colab": {
          "base_uri": "https://localhost:8080/",
          "height": 777
        },
        "id": "hWXwZ2BpcqCd",
        "outputId": "5d00889c-27f3-424c-d117-c5fb5e38d945"
      },
      "outputs": [
        {
          "output_type": "stream",
          "name": "stdout",
          "text": [
            "Epoch 0: 0.10187\n",
            "Epoch 1: 0.077211\n",
            "Epoch 2: 0.066411\n",
            "Epoch 3: 0.058203\n",
            "Epoch 4: 0.05083\n",
            "Epoch 5: 0.045773\n",
            "Epoch 6: 0.042791\n",
            "Epoch 7: 0.041198\n",
            "Epoch 8: 0.04044\n",
            "Epoch 9: 0.040156\n",
            "Epoch 10: 0.040129\n",
            "Epoch 11: 0.040231\n",
            "Epoch 12: 0.040386\n",
            "Epoch 13: 0.040552\n",
            "Epoch 14: 0.04071\n",
            "Epoch 15: 0.040853\n",
            "Epoch 16: 0.04098\n",
            "Epoch 17: 0.041096\n",
            "Epoch 18: 0.041205\n",
            "Epoch 19: 0.041307\n"
          ]
        },
        {
          "output_type": "display_data",
          "data": {
            "text/plain": [
              "<Figure size 640x480 with 1 Axes>"
            ],
            "image/png": "[encoded data removed]"
          },
          "metadata": {}
        }
      ],
      "source": [
        "model_20_10 = mlp_model(X_train, y_train, [28*28, 20, 10])\n",
        "trained_weights_20_10 = model_20_10.fit(0.5)"
      ]
    },
    {
      "cell_type": "code",
      "execution_count": 21,
      "metadata": {
        "colab": {
          "base_uri": "https://localhost:8080/"
        },
        "id": "C0huKRICcqCd",
        "outputId": "7b893cb2-78f2-415b-8048-b0c05f744242"
      },
      "outputs": [
        {
          "output_type": "execute_result",
          "data": {
            "text/plain": [
              "np.float64(83.83)"
            ]
          },
          "metadata": {},
          "execution_count": 21
        }
      ],
      "source": [
        "y_pred_20_10 = model_20_10.predict(X_test)\n",
        "mlp_model.accuracy(y_test, y_pred_20_10)"
      ]
    },
    {
      "cell_type": "markdown",
      "metadata": {
        "id": "8RlB4mixcqCd"
      },
      "source": [
        "# Neuronale Netze mit Keras\n",
        "\n",
        "In dieser Aufgabenblatt geht es darum, ein einfachen Künstliches Neuronales Netz für ein Regressionsproblem mit der Keras API zu implementieren.\n",
        "\n",
        "Wir verwenden den *Boston Housing* Datensatz, der als Standard-Anwendungsbeispiel über die Keras API heruntergeladen werden kann.\n",
        "\n",
        "Der Datensatz beschreibt die Wohnverhältnisse in verschieden Gebieten um Boston in den 1970er Jahren.\n",
        "Er enthält 506 Einträge mit jeweils 13 numerischen Merkmalen, die Zielvariable beschreibt den mittleren Wert der Häuserpreise in dem jeweiligen Bezirk (in Tausend USD).\n",
        "\n",
        "Gute Modelle sollten Vorhersagen mit einer mittlere quadratische Abweichung (*mean squared error*, MSE) unterhalb 20 (Tausend USD) treffen.\n",
        "\n"
      ]
    },
    {
      "cell_type": "markdown",
      "metadata": {
        "id": "QfSyslEycqCd"
      },
      "source": [
        "Zuerst binden wir die wichtigsten Bibliotheken ein und laden den Datensatz mit der Funktion `boston_housing.load_data()` herunter."
      ]
    },
    {
      "cell_type": "code",
      "execution_count": 22,
      "metadata": {
        "id": "dQIs-SYqcqCd"
      },
      "outputs": [],
      "source": [
        "import numpy as np\n",
        "import pandas as pd\n",
        "import tensorflow as tf\n",
        "from tensorflow.keras import models, layers, datasets"
      ]
    },
    {
      "cell_type": "code",
      "execution_count": 23,
      "metadata": {
        "colab": {
          "base_uri": "https://localhost:8080/"
        },
        "id": "fwIZWl16cqCd",
        "outputId": "36618fbb-5f85-4f2f-bf2d-3c6de84873a9"
      },
      "outputs": [
        {
          "output_type": "stream",
          "name": "stdout",
          "text": [
            "Downloading data from https://storage.googleapis.com/tensorflow/tf-keras-datasets/boston_housing.npz\n",
            "\u001b[1m57026/57026\u001b[0m \u001b[32m━━━━━━━━━━━━━━━━━━━━\u001b[0m\u001b[37m\u001b[0m \u001b[1m0s\u001b[0m 0us/step\n"
          ]
        }
      ],
      "source": [
        "(X_train, y_train), (X_test, y_test) = datasets.boston_housing.load_data()"
      ]
    },
    {
      "cell_type": "code",
      "execution_count": 24,
      "metadata": {
        "colab": {
          "base_uri": "https://localhost:8080/"
        },
        "id": "Xw1Z-CfucqCd",
        "outputId": "ff72005f-8d04-4da8-98fd-339954245fad"
      },
      "outputs": [
        {
          "output_type": "execute_result",
          "data": {
            "text/plain": [
              "(102, 13)"
            ]
          },
          "metadata": {},
          "execution_count": 24
        }
      ],
      "source": [
        "mean = X_train.mean(axis=0)\n",
        "X_train -= mean\n",
        "std = X_train.std(axis=0)\n",
        "X_train /= std\n",
        "\n",
        "X_test -= mean\n",
        "X_test /= std\n",
        "\n",
        "X_test.shape"
      ]
    },
    {
      "cell_type": "code",
      "execution_count": 25,
      "metadata": {
        "colab": {
          "base_uri": "https://localhost:8080/"
        },
        "id": "-CZSnO1VcqCe",
        "outputId": "b0d7c861-6e28-4c2e-95ba-3fdde39cb0b1"
      },
      "outputs": [
        {
          "output_type": "stream",
          "name": "stderr",
          "text": [
            "/usr/local/lib/python3.11/dist-packages/keras/src/layers/core/dense.py:87: UserWarning: Do not pass an `input_shape`/`input_dim` argument to a layer. When using Sequential models, prefer using an `Input(shape)` object as the first layer in the model instead.\n",
            "  super().__init__(activity_regularizer=activity_regularizer, **kwargs)\n"
          ]
        }
      ],
      "source": [
        "model = models.Sequential()\n",
        "model.add(layers.Dense(32, activation='relu', input_shape=(X_train.shape[1],)))\n",
        "model.add(layers.Dense(64, activation='relu'))\n",
        "model.add(layers.Dense(1))"
      ]
    },
    {
      "cell_type": "markdown",
      "metadata": {
        "id": "RPqx1Pv6cqCe"
      },
      "source": [
        "Nachdem die Modellparameter zusammengestellt sind, muss die Eigentliche Modellfunktion erstellt werden.\n",
        "In Tensorflow wird damit der Graph des Modells erzeugt.\n",
        "Die `compile`-Funktion kann mit verschiedenen Parametern angepasst werden:\n",
        "- `optimizer` legt die Art (den Algorithmus) des Gradientenverfahrens fest. (https://keras.io/optimizers/)\n",
        "- `loss` bestimmt die Art der Kostenfunktion (https://keras.io/losses/)\n",
        "- `metrics` legt fest, welche Qualitätsmerkmale beim Trainieren überprüft werden sollen (https://keras.io/metrics/)\n",
        "\n"
      ]
    },
    {
      "cell_type": "code",
      "execution_count": 26,
      "metadata": {
        "id": "7qb27yxtcqCe"
      },
      "outputs": [],
      "source": [
        "model.compile(\n",
        "    optimizer='SGD',\n",
        "    loss='mse',\n",
        "    metrics=['mae','mape'])"
      ]
    },
    {
      "cell_type": "markdown",
      "metadata": {
        "id": "CiKZbbJbcqCe"
      },
      "source": [
        "Um die Ergebnisse zu visulaisieren, legen wir ein Log-Verzeichnis pro Lauf des Verfahrens an, in das wir die Informationen der `fit`-Funktion schreiben.\n",
        "Damit können wir später die Ergebnisse der einzelnen Trainingsläufe vergeleichen."
      ]
    },
    {
      "cell_type": "code",
      "execution_count": 27,
      "metadata": {
        "id": "aK-OHNA7cqCe"
      },
      "outputs": [],
      "source": [
        "import time\n",
        "newlog = '.\\\\keras_data\\\\run_' + time.strftime(\"%Y%m%d-%H%M%S\")\n",
        "tbCallBack = tf.keras.callbacks.TensorBoard(log_dir=newlog, histogram_freq=0, write_graph=True, write_images=True)"
      ]
    },
    {
      "cell_type": "markdown",
      "metadata": {
        "id": "LoEiMVlBcqCe"
      },
      "source": [
        "Nun rufen wir die `fit`-Funktion auf, um die Modellparameter zu lernen."
      ]
    },
    {
      "cell_type": "code",
      "execution_count": 28,
      "metadata": {
        "colab": {
          "base_uri": "https://localhost:8080/"
        },
        "id": "KS7AvmiucqCe",
        "outputId": "34b78441-0dc2-41b2-ca80-fdda3d6fa898"
      },
      "outputs": [
        {
          "output_type": "stream",
          "name": "stdout",
          "text": [
            "Epoch 1/200\n",
            "\u001b[1m7/7\u001b[0m \u001b[32m━━━━━━━━━━━━━━━━━━━━\u001b[0m\u001b[37m\u001b[0m \u001b[1m2s\u001b[0m 8ms/step - loss: 395.1206 - mae: 17.3805 - mape: 78.7032\n",
            "Epoch 2/200\n",
            "\u001b[1m7/7\u001b[0m \u001b[32m━━━━━━━━━━━━━━━━━━━━\u001b[0m\u001b[37m\u001b[0m \u001b[1m0s\u001b[0m 17ms/step - loss: 248.9210 - mae: 12.9169 - mape: 55.6985\n",
            "Epoch 3/200\n",
            "\u001b[1m7/7\u001b[0m \u001b[32m━━━━━━━━━━━━━━━━━━━━\u001b[0m\u001b[37m\u001b[0m \u001b[1m0s\u001b[0m 11ms/step - loss: 153.6033 - mae: 9.8416 - mape: 43.9906\n",
            "Epoch 4/200\n",
            "\u001b[1m7/7\u001b[0m \u001b[32m━━━━━━━━━━━━━━━━━━━━\u001b[0m\u001b[37m\u001b[0m \u001b[1m0s\u001b[0m 11ms/step - loss: 72.0348 - mae: 6.1526 - mape: 26.7794\n",
            "Epoch 5/200\n",
            "\u001b[1m7/7\u001b[0m \u001b[32m━━━━━━━━━━━━━━━━━━━━\u001b[0m\u001b[37m\u001b[0m \u001b[1m0s\u001b[0m 11ms/step - loss: 19.5476 - mae: 2.9254 - mape: 14.7900\n",
            "Epoch 6/200\n",
            "\u001b[1m7/7\u001b[0m \u001b[32m━━━━━━━━━━━━━━━━━━━━\u001b[0m\u001b[37m\u001b[0m \u001b[1m0s\u001b[0m 10ms/step - loss: 464.4779 - mae: 17.1305 - mape: 71.5296\n",
            "Epoch 7/200\n",
            "\u001b[1m7/7\u001b[0m \u001b[32m━━━━━━━━━━━━━━━━━━━━\u001b[0m\u001b[37m\u001b[0m \u001b[1m0s\u001b[0m 11ms/step - loss: 196.0609 - mae: 10.9110 - mape: 49.1825\n",
            "Epoch 8/200\n",
            "\u001b[1m7/7\u001b[0m \u001b[32m━━━━━━━━━━━━━━━━━━━━\u001b[0m\u001b[37m\u001b[0m \u001b[1m0s\u001b[0m 38ms/step - loss: 55.6033 - mae: 5.3045 - mape: 25.9115\n",
            "Epoch 9/200\n",
            "\u001b[1m7/7\u001b[0m \u001b[32m━━━━━━━━━━━━━━━━━━━━\u001b[0m\u001b[37m\u001b[0m \u001b[1m0s\u001b[0m 8ms/step - loss: 82.0816 - mae: 6.3273 - mape: 34.2370  \n",
            "Epoch 10/200\n",
            "\u001b[1m7/7\u001b[0m \u001b[32m━━━━━━━━━━━━━━━━━━━━\u001b[0m\u001b[37m\u001b[0m \u001b[1m0s\u001b[0m 7ms/step - loss: 50.1287 - mae: 4.1427 - mape: 20.9068 \n",
            "Epoch 11/200\n",
            "\u001b[1m7/7\u001b[0m \u001b[32m━━━━━━━━━━━━━━━━━━━━\u001b[0m\u001b[37m\u001b[0m \u001b[1m0s\u001b[0m 7ms/step - loss: 38.5032 - mae: 4.3520 - mape: 20.5223 \n",
            "Epoch 12/200\n",
            "\u001b[1m7/7\u001b[0m \u001b[32m━━━━━━━━━━━━━━━━━━━━\u001b[0m\u001b[37m\u001b[0m \u001b[1m0s\u001b[0m 8ms/step - loss: 17.5314 - mae: 2.9929 - mape: 15.1411 \n",
            "Epoch 13/200\n",
            "\u001b[1m7/7\u001b[0m \u001b[32m━━━━━━━━━━━━━━━━━━━━\u001b[0m\u001b[37m\u001b[0m \u001b[1m0s\u001b[0m 7ms/step - loss: 21.5300 - mae: 3.1746 - mape: 15.6825 \n",
            "Epoch 14/200\n",
            "\u001b[1m7/7\u001b[0m \u001b[32m━━━━━━━━━━━━━━━━━━━━\u001b[0m\u001b[37m\u001b[0m \u001b[1m0s\u001b[0m 8ms/step - loss: 60.2130 - mae: 6.0155 - mape: 31.8639 \n",
            "Epoch 15/200\n",
            "\u001b[1m7/7\u001b[0m \u001b[32m━━━━━━━━━━━━━━━━━━━━\u001b[0m\u001b[37m\u001b[0m \u001b[1m0s\u001b[0m 7ms/step - loss: 15.4877 - mae: 2.9419 - mape: 14.2796 \n",
            "Epoch 16/200\n",
            "\u001b[1m7/7\u001b[0m \u001b[32m━━━━━━━━━━━━━━━━━━━━\u001b[0m\u001b[37m\u001b[0m \u001b[1m0s\u001b[0m 7ms/step - loss: 10.8689 - mae: 2.3697 - mape: 11.3909\n",
            "Epoch 17/200\n",
            "\u001b[1m7/7\u001b[0m \u001b[32m━━━━━━━━━━━━━━━━━━━━\u001b[0m\u001b[37m\u001b[0m \u001b[1m0s\u001b[0m 7ms/step - loss: 27.3417 - mae: 3.4764 - mape: 15.5546 \n",
            "Epoch 18/200\n",
            "\u001b[1m7/7\u001b[0m \u001b[32m━━━━━━━━━━━━━━━━━━━━\u001b[0m\u001b[37m\u001b[0m \u001b[1m0s\u001b[0m 7ms/step - loss: 10.0513 - mae: 2.2265 - mape: 11.3618\n",
            "Epoch 19/200\n",
            "\u001b[1m7/7\u001b[0m \u001b[32m━━━━━━━━━━━━━━━━━━━━\u001b[0m\u001b[37m\u001b[0m \u001b[1m0s\u001b[0m 7ms/step - loss: 11.7791 - mae: 2.2526 - mape: 11.3105 \n",
            "Epoch 20/200\n",
            "\u001b[1m7/7\u001b[0m \u001b[32m━━━━━━━━━━━━━━━━━━━━\u001b[0m\u001b[37m\u001b[0m \u001b[1m0s\u001b[0m 7ms/step - loss: 9.9476 - mae: 2.2183 - mape: 10.7213 \n",
            "Epoch 21/200\n",
            "\u001b[1m7/7\u001b[0m \u001b[32m━━━━━━━━━━━━━━━━━━━━\u001b[0m\u001b[37m\u001b[0m \u001b[1m0s\u001b[0m 9ms/step - loss: 16.7276 - mae: 2.8025 - mape: 15.7578 \n",
            "Epoch 22/200\n",
            "\u001b[1m7/7\u001b[0m \u001b[32m━━━━━━━━━━━━━━━━━━━━\u001b[0m\u001b[37m\u001b[0m \u001b[1m0s\u001b[0m 8ms/step - loss: 18.6647 - mae: 2.9277 - mape: 14.9840 \n",
            "Epoch 23/200\n",
            "\u001b[1m7/7\u001b[0m \u001b[32m━━━━━━━━━━━━━━━━━━━━\u001b[0m\u001b[37m\u001b[0m \u001b[1m0s\u001b[0m 13ms/step - loss: 12.4961 - mae: 2.4821 - mape: 12.3284\n",
            "Epoch 24/200\n",
            "\u001b[1m7/7\u001b[0m \u001b[32m━━━━━━━━━━━━━━━━━━━━\u001b[0m\u001b[37m\u001b[0m \u001b[1m0s\u001b[0m 11ms/step - loss: 15.0266 - mae: 2.6158 - mape: 12.0689\n",
            "Epoch 25/200\n",
            "\u001b[1m7/7\u001b[0m \u001b[32m━━━━━━━━━━━━━━━━━━━━\u001b[0m\u001b[37m\u001b[0m \u001b[1m0s\u001b[0m 12ms/step - loss: 10.4262 - mae: 2.1602 - mape: 10.5988\n",
            "Epoch 26/200\n",
            "\u001b[1m7/7\u001b[0m \u001b[32m━━━━━━━━━━━━━━━━━━━━\u001b[0m\u001b[37m\u001b[0m \u001b[1m0s\u001b[0m 10ms/step - loss: 11.5431 - mae: 2.3445 - mape: 11.2077\n",
            "Epoch 27/200\n",
            "\u001b[1m7/7\u001b[0m \u001b[32m━━━━━━━━━━━━━━━━━━━━\u001b[0m\u001b[37m\u001b[0m \u001b[1m0s\u001b[0m 11ms/step - loss: 15.1213 - mae: 2.6259 - mape: 12.5541\n",
            "Epoch 28/200\n",
            "\u001b[1m7/7\u001b[0m \u001b[32m━━━━━━━━━━━━━━━━━━━━\u001b[0m\u001b[37m\u001b[0m \u001b[1m0s\u001b[0m 11ms/step - loss: 18.3769 - mae: 2.8972 - mape: 13.3996\n",
            "Epoch 29/200\n",
            "\u001b[1m7/7\u001b[0m \u001b[32m━━━━━━━━━━━━━━━━━━━━\u001b[0m\u001b[37m\u001b[0m \u001b[1m0s\u001b[0m 11ms/step - loss: 11.6296 - mae: 2.3535 - mape: 11.6256\n",
            "Epoch 30/200\n",
            "\u001b[1m7/7\u001b[0m \u001b[32m━━━━━━━━━━━━━━━━━━━━\u001b[0m\u001b[37m\u001b[0m \u001b[1m0s\u001b[0m 12ms/step - loss: 14.1483 - mae: 2.4922 - mape: 12.0470\n",
            "Epoch 31/200\n",
            "\u001b[1m7/7\u001b[0m \u001b[32m━━━━━━━━━━━━━━━━━━━━\u001b[0m\u001b[37m\u001b[0m \u001b[1m0s\u001b[0m 12ms/step - loss: 7.3536 - mae: 1.9376 - mape: 9.7786\n",
            "Epoch 32/200\n",
            "\u001b[1m7/7\u001b[0m \u001b[32m━━━━━━━━━━━━━━━━━━━━\u001b[0m\u001b[37m\u001b[0m \u001b[1m0s\u001b[0m 11ms/step - loss: 8.6855 - mae: 2.1119 - mape: 11.1837\n",
            "Epoch 33/200\n",
            "\u001b[1m7/7\u001b[0m \u001b[32m━━━━━━━━━━━━━━━━━━━━\u001b[0m\u001b[37m\u001b[0m \u001b[1m0s\u001b[0m 12ms/step - loss: 6.9152 - mae: 1.8690 - mape: 9.7210\n",
            "Epoch 34/200\n",
            "\u001b[1m7/7\u001b[0m \u001b[32m━━━━━━━━━━━━━━━━━━━━\u001b[0m\u001b[37m\u001b[0m \u001b[1m0s\u001b[0m 12ms/step - loss: 16.8520 - mae: 2.9304 - mape: 13.1560\n",
            "Epoch 35/200\n",
            "\u001b[1m7/7\u001b[0m \u001b[32m━━━━━━━━━━━━━━━━━━━━\u001b[0m\u001b[37m\u001b[0m \u001b[1m0s\u001b[0m 12ms/step - loss: 11.6647 - mae: 2.3414 - mape: 10.8695\n",
            "Epoch 36/200\n",
            "\u001b[1m7/7\u001b[0m \u001b[32m━━━━━━━━━━━━━━━━━━━━\u001b[0m\u001b[37m\u001b[0m \u001b[1m0s\u001b[0m 11ms/step - loss: 15.9239 - mae: 2.9297 - mape: 13.0903\n",
            "Epoch 37/200\n",
            "\u001b[1m7/7\u001b[0m \u001b[32m━━━━━━━━━━━━━━━━━━━━\u001b[0m\u001b[37m\u001b[0m \u001b[1m0s\u001b[0m 14ms/step - loss: 7.6852 - mae: 1.9437 - mape: 9.5575\n",
            "Epoch 38/200\n",
            "\u001b[1m7/7\u001b[0m \u001b[32m━━━━━━━━━━━━━━━━━━━━\u001b[0m\u001b[37m\u001b[0m \u001b[1m0s\u001b[0m 12ms/step - loss: 7.2834 - mae: 1.8960 - mape: 9.5418\n",
            "Epoch 39/200\n",
            "\u001b[1m7/7\u001b[0m \u001b[32m━━━━━━━━━━━━━━━━━━━━\u001b[0m\u001b[37m\u001b[0m \u001b[1m0s\u001b[0m 12ms/step - loss: 7.4727 - mae: 1.9914 - mape: 11.0409\n",
            "Epoch 40/200\n",
            "\u001b[1m7/7\u001b[0m \u001b[32m━━━━━━━━━━━━━━━━━━━━\u001b[0m\u001b[37m\u001b[0m \u001b[1m0s\u001b[0m 8ms/step - loss: 10.2156 - mae: 2.3565 - mape: 10.9636\n",
            "Epoch 41/200\n",
            "\u001b[1m7/7\u001b[0m \u001b[32m━━━━━━━━━━━━━━━━━━━━\u001b[0m\u001b[37m\u001b[0m \u001b[1m0s\u001b[0m 8ms/step - loss: 13.8174 - mae: 2.5137 - mape: 11.9912 \n",
            "Epoch 42/200\n",
            "\u001b[1m7/7\u001b[0m \u001b[32m━━━━━━━━━━━━━━━━━━━━\u001b[0m\u001b[37m\u001b[0m \u001b[1m0s\u001b[0m 7ms/step - loss: 7.3817 - mae: 1.9376 - mape: 9.7352 \n",
            "Epoch 43/200\n",
            "\u001b[1m7/7\u001b[0m \u001b[32m━━━━━━━━━━━━━━━━━━━━\u001b[0m\u001b[37m\u001b[0m \u001b[1m0s\u001b[0m 7ms/step - loss: 10.9617 - mae: 2.2941 - mape: 12.2030 \n",
            "Epoch 44/200\n",
            "\u001b[1m7/7\u001b[0m \u001b[32m━━━━━━━━━━━━━━━━━━━━\u001b[0m\u001b[37m\u001b[0m \u001b[1m0s\u001b[0m 7ms/step - loss: 9.1651 - mae: 2.1977 - mape: 11.7239  \n",
            "Epoch 45/200\n",
            "\u001b[1m7/7\u001b[0m \u001b[32m━━━━━━━━━━━━━━━━━━━━\u001b[0m\u001b[37m\u001b[0m \u001b[1m0s\u001b[0m 7ms/step - loss: 10.5795 - mae: 2.1710 - mape: 10.0191\n",
            "Epoch 46/200\n",
            "\u001b[1m7/7\u001b[0m \u001b[32m━━━━━━━━━━━━━━━━━━━━\u001b[0m\u001b[37m\u001b[0m \u001b[1m0s\u001b[0m 7ms/step - loss: 14.2037 - mae: 2.6160 - mape: 11.5656\n",
            "Epoch 47/200\n",
            "\u001b[1m7/7\u001b[0m \u001b[32m━━━━━━━━━━━━━━━━━━━━\u001b[0m\u001b[37m\u001b[0m \u001b[1m0s\u001b[0m 7ms/step - loss: 9.8603 - mae: 2.2963 - mape: 11.2277  \n",
            "Epoch 48/200\n",
            "\u001b[1m7/7\u001b[0m \u001b[32m━━━━━━━━━━━━━━━━━━━━\u001b[0m\u001b[37m\u001b[0m \u001b[1m0s\u001b[0m 7ms/step - loss: 6.4204 - mae: 1.7931 - mape: 9.2321 \n",
            "Epoch 49/200\n",
            "\u001b[1m7/7\u001b[0m \u001b[32m━━━━━━━━━━━━━━━━━━━━\u001b[0m\u001b[37m\u001b[0m \u001b[1m0s\u001b[0m 8ms/step - loss: 22.8743 - mae: 3.3061 - mape: 14.3559 \n",
            "Epoch 50/200\n",
            "\u001b[1m7/7\u001b[0m \u001b[32m━━━━━━━━━━━━━━━━━━━━\u001b[0m\u001b[37m\u001b[0m \u001b[1m0s\u001b[0m 7ms/step - loss: 36.5437 - mae: 4.3445 - mape: 20.5438 \n",
            "Epoch 51/200\n",
            "\u001b[1m7/7\u001b[0m \u001b[32m━━━━━━━━━━━━━━━━━━━━\u001b[0m\u001b[37m\u001b[0m \u001b[1m0s\u001b[0m 7ms/step - loss: 6.6524 - mae: 1.8400 - mape: 9.0821 \n",
            "Epoch 52/200\n",
            "\u001b[1m7/7\u001b[0m \u001b[32m━━━━━━━━━━━━━━━━━━━━\u001b[0m\u001b[37m\u001b[0m \u001b[1m0s\u001b[0m 8ms/step - loss: 10.1165 - mae: 2.2186 - mape: 11.6261\n",
            "Epoch 53/200\n",
            "\u001b[1m7/7\u001b[0m \u001b[32m━━━━━━━━━━━━━━━━━━━━\u001b[0m\u001b[37m\u001b[0m \u001b[1m0s\u001b[0m 7ms/step - loss: 6.2864 - mae: 1.7665 - mape: 9.3633  \n",
            "Epoch 54/200\n",
            "\u001b[1m7/7\u001b[0m \u001b[32m━━━━━━━━━━━━━━━━━━━━\u001b[0m\u001b[37m\u001b[0m \u001b[1m0s\u001b[0m 7ms/step - loss: 7.1224 - mae: 1.8952 - mape: 10.0231\n",
            "Epoch 55/200\n",
            "\u001b[1m7/7\u001b[0m \u001b[32m━━━━━━━━━━━━━━━━━━━━\u001b[0m\u001b[37m\u001b[0m \u001b[1m0s\u001b[0m 10ms/step - loss: 8.8299 - mae: 2.1647 - mape: 10.3751\n",
            "Epoch 56/200\n",
            "\u001b[1m7/7\u001b[0m \u001b[32m━━━━━━━━━━━━━━━━━━━━\u001b[0m\u001b[37m\u001b[0m \u001b[1m0s\u001b[0m 8ms/step - loss: 8.2193 - mae: 1.9925 - mape: 10.0416  \n",
            "Epoch 57/200\n",
            "\u001b[1m7/7\u001b[0m \u001b[32m━━━━━━━━━━━━━━━━━━━━\u001b[0m\u001b[37m\u001b[0m \u001b[1m0s\u001b[0m 7ms/step - loss: 8.6856 - mae: 2.1135 - mape: 10.2262\n",
            "Epoch 58/200\n",
            "\u001b[1m7/7\u001b[0m \u001b[32m━━━━━━━━━━━━━━━━━━━━\u001b[0m\u001b[37m\u001b[0m \u001b[1m0s\u001b[0m 7ms/step - loss: 9.6290 - mae: 2.2349 - mape: 10.5353 \n",
            "Epoch 59/200\n",
            "\u001b[1m7/7\u001b[0m \u001b[32m━━━━━━━━━━━━━━━━━━━━\u001b[0m\u001b[37m\u001b[0m \u001b[1m0s\u001b[0m 7ms/step - loss: 7.5666 - mae: 1.8730 - mape: 9.4168 \n",
            "Epoch 60/200\n",
            "\u001b[1m7/7\u001b[0m \u001b[32m━━━━━━━━━━━━━━━━━━━━\u001b[0m\u001b[37m\u001b[0m \u001b[1m0s\u001b[0m 8ms/step - loss: 10.1748 - mae: 2.3264 - mape: 10.7861 \n",
            "Epoch 61/200\n",
            "\u001b[1m7/7\u001b[0m \u001b[32m━━━━━━━━━━━━━━━━━━━━\u001b[0m\u001b[37m\u001b[0m \u001b[1m0s\u001b[0m 8ms/step - loss: 12.2306 - mae: 2.5456 - mape: 11.5503 \n",
            "Epoch 62/200\n",
            "\u001b[1m7/7\u001b[0m \u001b[32m━━━━━━━━━━━━━━━━━━━━\u001b[0m\u001b[37m\u001b[0m \u001b[1m0s\u001b[0m 7ms/step - loss: 6.6763 - mae: 1.7620 - mape: 8.9705 \n",
            "Epoch 63/200\n",
            "\u001b[1m7/7\u001b[0m \u001b[32m━━━━━━━━━━━━━━━━━━━━\u001b[0m\u001b[37m\u001b[0m \u001b[1m0s\u001b[0m 7ms/step - loss: 9.1373 - mae: 2.0874 - mape: 10.5974  \n",
            "Epoch 64/200\n",
            "\u001b[1m7/7\u001b[0m \u001b[32m━━━━━━━━━━━━━━━━━━━━\u001b[0m\u001b[37m\u001b[0m \u001b[1m0s\u001b[0m 10ms/step - loss: 5.7060 - mae: 1.6683 - mape: 8.4253\n",
            "Epoch 65/200\n",
            "\u001b[1m7/7\u001b[0m \u001b[32m━━━━━━━━━━━━━━━━━━━━\u001b[0m\u001b[37m\u001b[0m \u001b[1m0s\u001b[0m 7ms/step - loss: 26.4820 - mae: 3.6616 - mape: 15.6966 \n",
            "Epoch 66/200\n",
            "\u001b[1m7/7\u001b[0m \u001b[32m━━━━━━━━━━━━━━━━━━━━\u001b[0m\u001b[37m\u001b[0m \u001b[1m0s\u001b[0m 8ms/step - loss: 6.0567 - mae: 1.7987 - mape: 9.4296 \n",
            "Epoch 67/200\n",
            "\u001b[1m7/7\u001b[0m \u001b[32m━━━━━━━━━━━━━━━━━━━━\u001b[0m\u001b[37m\u001b[0m \u001b[1m0s\u001b[0m 8ms/step - loss: 9.6406 - mae: 2.1925 - mape: 10.1899 \n",
            "Epoch 68/200\n",
            "\u001b[1m7/7\u001b[0m \u001b[32m━━━━━━━━━━━━━━━━━━━━\u001b[0m\u001b[37m\u001b[0m \u001b[1m0s\u001b[0m 7ms/step - loss: 8.3673 - mae: 2.1181 - mape: 10.6879  \n",
            "Epoch 69/200\n",
            "\u001b[1m7/7\u001b[0m \u001b[32m━━━━━━━━━━━━━━━━━━━━\u001b[0m\u001b[37m\u001b[0m \u001b[1m0s\u001b[0m 8ms/step - loss: 7.9008 - mae: 1.9014 - mape: 9.9650  \n",
            "Epoch 70/200\n",
            "\u001b[1m7/7\u001b[0m \u001b[32m━━━━━━━━━━━━━━━━━━━━\u001b[0m\u001b[37m\u001b[0m \u001b[1m0s\u001b[0m 8ms/step - loss: 12.0870 - mae: 2.5411 - mape: 11.8831 \n",
            "Epoch 71/200\n",
            "\u001b[1m7/7\u001b[0m \u001b[32m━━━━━━━━━━━━━━━━━━━━\u001b[0m\u001b[37m\u001b[0m \u001b[1m0s\u001b[0m 8ms/step - loss: 15.2452 - mae: 2.6837 - mape: 11.9102 \n",
            "Epoch 72/200\n",
            "\u001b[1m7/7\u001b[0m \u001b[32m━━━━━━━━━━━━━━━━━━━━\u001b[0m\u001b[37m\u001b[0m \u001b[1m0s\u001b[0m 8ms/step - loss: 9.1921 - mae: 2.1741 - mape: 10.8717  \n",
            "Epoch 73/200\n",
            "\u001b[1m7/7\u001b[0m \u001b[32m━━━━━━━━━━━━━━━━━━━━\u001b[0m\u001b[37m\u001b[0m \u001b[1m0s\u001b[0m 8ms/step - loss: 6.9568 - mae: 1.8732 - mape: 9.4853  \n",
            "Epoch 74/200\n",
            "\u001b[1m7/7\u001b[0m \u001b[32m━━━━━━━━━━━━━━━━━━━━\u001b[0m\u001b[37m\u001b[0m \u001b[1m0s\u001b[0m 10ms/step - loss: 6.3088 - mae: 1.7679 - mape: 9.3715 \n",
            "Epoch 75/200\n",
            "\u001b[1m7/7\u001b[0m \u001b[32m━━━━━━━━━━━━━━━━━━━━\u001b[0m\u001b[37m\u001b[0m \u001b[1m0s\u001b[0m 7ms/step - loss: 9.7265 - mae: 2.2596 - mape: 10.7677  \n",
            "Epoch 76/200\n",
            "\u001b[1m7/7\u001b[0m \u001b[32m━━━━━━━━━━━━━━━━━━━━\u001b[0m\u001b[37m\u001b[0m \u001b[1m0s\u001b[0m 8ms/step - loss: 7.5972 - mae: 1.8764 - mape: 9.0586  \n",
            "Epoch 77/200\n",
            "\u001b[1m7/7\u001b[0m \u001b[32m━━━━━━━━━━━━━━━━━━━━\u001b[0m\u001b[37m\u001b[0m \u001b[1m0s\u001b[0m 7ms/step - loss: 16.2082 - mae: 2.7826 - mape: 12.6090 \n",
            "Epoch 78/200\n",
            "\u001b[1m7/7\u001b[0m \u001b[32m━━━━━━━━━━━━━━━━━━━━\u001b[0m\u001b[37m\u001b[0m \u001b[1m0s\u001b[0m 7ms/step - loss: 9.9081 - mae: 2.2564 - mape: 10.6162  \n",
            "Epoch 79/200\n",
            "\u001b[1m7/7\u001b[0m \u001b[32m━━━━━━━━━━━━━━━━━━━━\u001b[0m\u001b[37m\u001b[0m \u001b[1m0s\u001b[0m 7ms/step - loss: 6.6071 - mae: 1.7568 - mape: 8.7887 \n",
            "Epoch 80/200\n",
            "\u001b[1m7/7\u001b[0m \u001b[32m━━━━━━━━━━━━━━━━━━━━\u001b[0m\u001b[37m\u001b[0m \u001b[1m0s\u001b[0m 7ms/step - loss: 11.0890 - mae: 2.4051 - mape: 12.1338 \n",
            "Epoch 81/200\n",
            "\u001b[1m7/7\u001b[0m \u001b[32m━━━━━━━━━━━━━━━━━━━━\u001b[0m\u001b[37m\u001b[0m \u001b[1m0s\u001b[0m 7ms/step - loss: 5.9110 - mae: 1.7007 - mape: 8.5936 \n",
            "Epoch 82/200\n",
            "\u001b[1m7/7\u001b[0m \u001b[32m━━━━━━━━━━━━━━━━━━━━\u001b[0m\u001b[37m\u001b[0m \u001b[1m0s\u001b[0m 7ms/step - loss: 6.9954 - mae: 1.8823 - mape: 9.0118 \n",
            "Epoch 83/200\n",
            "\u001b[1m7/7\u001b[0m \u001b[32m━━━━━━━━━━━━━━━━━━━━\u001b[0m\u001b[37m\u001b[0m \u001b[1m0s\u001b[0m 10ms/step - loss: 9.2168 - mae: 2.1970 - mape: 10.0132 \n",
            "Epoch 84/200\n",
            "\u001b[1m7/7\u001b[0m \u001b[32m━━━━━━━━━━━━━━━━━━━━\u001b[0m\u001b[37m\u001b[0m \u001b[1m0s\u001b[0m 7ms/step - loss: 5.5530 - mae: 1.6616 - mape: 8.4013 \n",
            "Epoch 85/200\n",
            "\u001b[1m7/7\u001b[0m \u001b[32m━━━━━━━━━━━━━━━━━━━━\u001b[0m\u001b[37m\u001b[0m \u001b[1m0s\u001b[0m 7ms/step - loss: 5.3719 - mae: 1.6889 - mape: 9.1616  \n",
            "Epoch 86/200\n",
            "\u001b[1m7/7\u001b[0m \u001b[32m━━━━━━━━━━━━━━━━━━━━\u001b[0m\u001b[37m\u001b[0m \u001b[1m0s\u001b[0m 7ms/step - loss: 5.5981 - mae: 1.6518 - mape: 8.1792 \n",
            "Epoch 87/200\n",
            "\u001b[1m7/7\u001b[0m \u001b[32m━━━━━━━━━━━━━━━━━━━━\u001b[0m\u001b[37m\u001b[0m \u001b[1m0s\u001b[0m 9ms/step - loss: 5.3066 - mae: 1.6243 - mape: 8.3395 \n",
            "Epoch 88/200\n",
            "\u001b[1m7/7\u001b[0m \u001b[32m━━━━━━━━━━━━━━━━━━━━\u001b[0m\u001b[37m\u001b[0m \u001b[1m0s\u001b[0m 7ms/step - loss: 6.5645 - mae: 1.7646 - mape: 9.3503  \n",
            "Epoch 89/200\n",
            "\u001b[1m7/7\u001b[0m \u001b[32m━━━━━━━━━━━━━━━━━━━━\u001b[0m\u001b[37m\u001b[0m \u001b[1m0s\u001b[0m 7ms/step - loss: 5.2486 - mae: 1.6646 - mape: 8.3471 \n",
            "Epoch 90/200\n",
            "\u001b[1m7/7\u001b[0m \u001b[32m━━━━━━━━━━━━━━━━━━━━\u001b[0m\u001b[37m\u001b[0m \u001b[1m0s\u001b[0m 8ms/step - loss: 6.1559 - mae: 1.7613 - mape: 8.4330 \n",
            "Epoch 91/200\n",
            "\u001b[1m7/7\u001b[0m \u001b[32m━━━━━━━━━━━━━━━━━━━━\u001b[0m\u001b[37m\u001b[0m \u001b[1m0s\u001b[0m 7ms/step - loss: 9.2443 - mae: 2.2289 - mape: 10.6009 \n",
            "Epoch 92/200\n",
            "\u001b[1m7/7\u001b[0m \u001b[32m━━━━━━━━━━━━━━━━━━━━\u001b[0m\u001b[37m\u001b[0m \u001b[1m0s\u001b[0m 8ms/step - loss: 4.7268 - mae: 1.5719 - mape: 8.2095 \n",
            "Epoch 93/200\n",
            "\u001b[1m7/7\u001b[0m \u001b[32m━━━━━━━━━━━━━━━━━━━━\u001b[0m\u001b[37m\u001b[0m \u001b[1m0s\u001b[0m 10ms/step - loss: 6.2581 - mae: 1.8306 - mape: 9.6292 \n",
            "Epoch 94/200\n",
            "\u001b[1m7/7\u001b[0m \u001b[32m━━━━━━━━━━━━━━━━━━━━\u001b[0m\u001b[37m\u001b[0m \u001b[1m0s\u001b[0m 7ms/step - loss: 5.6069 - mae: 1.7172 - mape: 8.3768 \n",
            "Epoch 95/200\n",
            "\u001b[1m7/7\u001b[0m \u001b[32m━━━━━━━━━━━━━━━━━━━━\u001b[0m\u001b[37m\u001b[0m \u001b[1m0s\u001b[0m 7ms/step - loss: 8.9691 - mae: 2.1401 - mape: 10.2829  \n",
            "Epoch 96/200\n",
            "\u001b[1m7/7\u001b[0m \u001b[32m━━━━━━━━━━━━━━━━━━━━\u001b[0m\u001b[37m\u001b[0m \u001b[1m0s\u001b[0m 8ms/step - loss: 5.4610 - mae: 1.6304 - mape: 8.2337 \n",
            "Epoch 97/200\n",
            "\u001b[1m7/7\u001b[0m \u001b[32m━━━━━━━━━━━━━━━━━━━━\u001b[0m\u001b[37m\u001b[0m \u001b[1m0s\u001b[0m 8ms/step - loss: 6.2950 - mae: 1.7347 - mape: 8.5026 \n",
            "Epoch 98/200\n",
            "\u001b[1m7/7\u001b[0m \u001b[32m━━━━━━━━━━━━━━━━━━━━\u001b[0m\u001b[37m\u001b[0m \u001b[1m0s\u001b[0m 9ms/step - loss: 5.9851 - mae: 1.7198 - mape: 8.7950 \n",
            "Epoch 99/200\n",
            "\u001b[1m7/7\u001b[0m \u001b[32m━━━━━━━━━━━━━━━━━━━━\u001b[0m\u001b[37m\u001b[0m \u001b[1m0s\u001b[0m 7ms/step - loss: 9.7253 - mae: 2.1823 - mape: 10.3143  \n",
            "Epoch 100/200\n",
            "\u001b[1m7/7\u001b[0m \u001b[32m━━━━━━━━━━━━━━━━━━━━\u001b[0m\u001b[37m\u001b[0m \u001b[1m0s\u001b[0m 8ms/step - loss: 5.5311 - mae: 1.6538 - mape: 8.6010 \n",
            "Epoch 101/200\n",
            "\u001b[1m7/7\u001b[0m \u001b[32m━━━━━━━━━━━━━━━━━━━━\u001b[0m\u001b[37m\u001b[0m \u001b[1m0s\u001b[0m 7ms/step - loss: 5.9425 - mae: 1.7829 - mape: 8.8150 \n",
            "Epoch 102/200\n",
            "\u001b[1m7/7\u001b[0m \u001b[32m━━━━━━━━━━━━━━━━━━━━\u001b[0m\u001b[37m\u001b[0m \u001b[1m0s\u001b[0m 7ms/step - loss: 6.3831 - mae: 1.8628 - mape: 8.9127 \n",
            "Epoch 103/200\n",
            "\u001b[1m7/7\u001b[0m \u001b[32m━━━━━━━━━━━━━━━━━━━━\u001b[0m\u001b[37m\u001b[0m \u001b[1m0s\u001b[0m 8ms/step - loss: 4.9475 - mae: 1.6898 - mape: 8.7351 \n",
            "Epoch 104/200\n",
            "\u001b[1m7/7\u001b[0m \u001b[32m━━━━━━━━━━━━━━━━━━━━\u001b[0m\u001b[37m\u001b[0m \u001b[1m0s\u001b[0m 7ms/step - loss: 6.3100 - mae: 1.7418 - mape: 8.7798 \n",
            "Epoch 105/200\n",
            "\u001b[1m7/7\u001b[0m \u001b[32m━━━━━━━━━━━━━━━━━━━━\u001b[0m\u001b[37m\u001b[0m \u001b[1m0s\u001b[0m 9ms/step - loss: 6.4772 - mae: 1.7183 - mape: 8.6543 \n",
            "Epoch 106/200\n",
            "\u001b[1m7/7\u001b[0m \u001b[32m━━━━━━━━━━━━━━━━━━━━\u001b[0m\u001b[37m\u001b[0m \u001b[1m0s\u001b[0m 9ms/step - loss: 5.2189 - mae: 1.6547 - mape: 8.6275 \n",
            "Epoch 107/200\n",
            "\u001b[1m7/7\u001b[0m \u001b[32m━━━━━━━━━━━━━━━━━━━━\u001b[0m\u001b[37m\u001b[0m \u001b[1m0s\u001b[0m 10ms/step - loss: 4.5234 - mae: 1.5182 - mape: 8.0689\n",
            "Epoch 108/200\n",
            "\u001b[1m7/7\u001b[0m \u001b[32m━━━━━━━━━━━━━━━━━━━━\u001b[0m\u001b[37m\u001b[0m \u001b[1m0s\u001b[0m 8ms/step - loss: 7.7834 - mae: 1.9284 - mape: 9.3851   \n",
            "Epoch 109/200\n",
            "\u001b[1m7/7\u001b[0m \u001b[32m━━━━━━━━━━━━━━━━━━━━\u001b[0m\u001b[37m\u001b[0m \u001b[1m0s\u001b[0m 8ms/step - loss: 4.7485 - mae: 1.4796 - mape: 7.8981 \n",
            "Epoch 110/200\n",
            "\u001b[1m7/7\u001b[0m \u001b[32m━━━━━━━━━━━━━━━━━━━━\u001b[0m\u001b[37m\u001b[0m \u001b[1m0s\u001b[0m 8ms/step - loss: 5.9418 - mae: 1.7775 - mape: 8.9175 \n",
            "Epoch 111/200\n",
            "\u001b[1m7/7\u001b[0m \u001b[32m━━━━━━━━━━━━━━━━━━━━\u001b[0m\u001b[37m\u001b[0m \u001b[1m0s\u001b[0m 8ms/step - loss: 5.9263 - mae: 1.7725 - mape: 8.6762 \n",
            "Epoch 112/200\n",
            "\u001b[1m7/7\u001b[0m \u001b[32m━━━━━━━━━━━━━━━━━━━━\u001b[0m\u001b[37m\u001b[0m \u001b[1m0s\u001b[0m 7ms/step - loss: 4.8073 - mae: 1.5943 - mape: 8.0833 \n",
            "Epoch 113/200\n",
            "\u001b[1m7/7\u001b[0m \u001b[32m━━━━━━━━━━━━━━━━━━━━\u001b[0m\u001b[37m\u001b[0m \u001b[1m0s\u001b[0m 8ms/step - loss: 5.3056 - mae: 1.6379 - mape: 8.0871 \n",
            "Epoch 114/200\n",
            "\u001b[1m7/7\u001b[0m \u001b[32m━━━━━━━━━━━━━━━━━━━━\u001b[0m\u001b[37m\u001b[0m \u001b[1m0s\u001b[0m 8ms/step - loss: 10.7804 - mae: 2.2807 - mape: 10.4368 \n",
            "Epoch 115/200\n",
            "\u001b[1m7/7\u001b[0m \u001b[32m━━━━━━━━━━━━━━━━━━━━\u001b[0m\u001b[37m\u001b[0m \u001b[1m0s\u001b[0m 8ms/step - loss: 5.0500 - mae: 1.5946 - mape: 7.9787 \n",
            "Epoch 116/200\n",
            "\u001b[1m7/7\u001b[0m \u001b[32m━━━━━━━━━━━━━━━━━━━━\u001b[0m\u001b[37m\u001b[0m \u001b[1m0s\u001b[0m 8ms/step - loss: 9.6191 - mae: 2.1160 - mape: 9.5543  \n",
            "Epoch 117/200\n",
            "\u001b[1m7/7\u001b[0m \u001b[32m━━━━━━━━━━━━━━━━━━━━\u001b[0m\u001b[37m\u001b[0m \u001b[1m0s\u001b[0m 8ms/step - loss: 6.4845 - mae: 1.8415 - mape: 9.1304  \n",
            "Epoch 118/200\n",
            "\u001b[1m7/7\u001b[0m \u001b[32m━━━━━━━━━━━━━━━━━━━━\u001b[0m\u001b[37m\u001b[0m \u001b[1m0s\u001b[0m 7ms/step - loss: 4.9195 - mae: 1.5726 - mape: 8.0636 \n",
            "Epoch 119/200\n",
            "\u001b[1m7/7\u001b[0m \u001b[32m━━━━━━━━━━━━━━━━━━━━\u001b[0m\u001b[37m\u001b[0m \u001b[1m0s\u001b[0m 8ms/step - loss: 5.1895 - mae: 1.5898 - mape: 7.9754 \n",
            "Epoch 120/200\n",
            "\u001b[1m7/7\u001b[0m \u001b[32m━━━━━━━━━━━━━━━━━━━━\u001b[0m\u001b[37m\u001b[0m \u001b[1m0s\u001b[0m 7ms/step - loss: 5.1268 - mae: 1.6291 - mape: 8.1822 \n",
            "Epoch 121/200\n",
            "\u001b[1m7/7\u001b[0m \u001b[32m━━━━━━━━━━━━━━━━━━━━\u001b[0m\u001b[37m\u001b[0m \u001b[1m0s\u001b[0m 8ms/step - loss: 4.9869 - mae: 1.5870 - mape: 8.0390 \n",
            "Epoch 122/200\n",
            "\u001b[1m7/7\u001b[0m \u001b[32m━━━━━━━━━━━━━━━━━━━━\u001b[0m\u001b[37m\u001b[0m \u001b[1m0s\u001b[0m 8ms/step - loss: 7.1246 - mae: 1.8871 - mape: 8.6935 \n",
            "Epoch 123/200\n",
            "\u001b[1m7/7\u001b[0m \u001b[32m━━━━━━━━━━━━━━━━━━━━\u001b[0m\u001b[37m\u001b[0m \u001b[1m0s\u001b[0m 8ms/step - loss: 8.0943 - mae: 1.7742 - mape: 9.6717  \n",
            "Epoch 124/200\n",
            "\u001b[1m7/7\u001b[0m \u001b[32m━━━━━━━━━━━━━━━━━━━━\u001b[0m\u001b[37m\u001b[0m \u001b[1m0s\u001b[0m 8ms/step - loss: 4.7227 - mae: 1.4954 - mape: 8.0211 \n",
            "Epoch 125/200\n",
            "\u001b[1m7/7\u001b[0m \u001b[32m━━━━━━━━━━━━━━━━━━━━\u001b[0m\u001b[37m\u001b[0m \u001b[1m0s\u001b[0m 8ms/step - loss: 4.4022 - mae: 1.5041 - mape: 7.6678 \n",
            "Epoch 126/200\n",
            "\u001b[1m7/7\u001b[0m \u001b[32m━━━━━━━━━━━━━━━━━━━━\u001b[0m\u001b[37m\u001b[0m \u001b[1m0s\u001b[0m 7ms/step - loss: 4.5353 - mae: 1.4773 - mape: 7.6269 \n",
            "Epoch 127/200\n",
            "\u001b[1m7/7\u001b[0m \u001b[32m━━━━━━━━━━━━━━━━━━━━\u001b[0m\u001b[37m\u001b[0m \u001b[1m0s\u001b[0m 15ms/step - loss: 4.7753 - mae: 1.6192 - mape: 8.2564\n",
            "Epoch 128/200\n",
            "\u001b[1m7/7\u001b[0m \u001b[32m━━━━━━━━━━━━━━━━━━━━\u001b[0m\u001b[37m\u001b[0m \u001b[1m0s\u001b[0m 11ms/step - loss: 4.3461 - mae: 1.4397 - mape: 7.3203 \n",
            "Epoch 129/200\n",
            "\u001b[1m7/7\u001b[0m \u001b[32m━━━━━━━━━━━━━━━━━━━━\u001b[0m\u001b[37m\u001b[0m \u001b[1m0s\u001b[0m 12ms/step - loss: 4.6654 - mae: 1.5535 - mape: 7.6869\n",
            "Epoch 130/200\n",
            "\u001b[1m7/7\u001b[0m \u001b[32m━━━━━━━━━━━━━━━━━━━━\u001b[0m\u001b[37m\u001b[0m \u001b[1m0s\u001b[0m 10ms/step - loss: 6.2434 - mae: 1.6836 - mape: 8.5681\n",
            "Epoch 131/200\n",
            "\u001b[1m7/7\u001b[0m \u001b[32m━━━━━━━━━━━━━━━━━━━━\u001b[0m\u001b[37m\u001b[0m \u001b[1m0s\u001b[0m 10ms/step - loss: 7.4889 - mae: 1.9810 - mape: 9.4722 \n",
            "Epoch 132/200\n",
            "\u001b[1m7/7\u001b[0m \u001b[32m━━━━━━━━━━━━━━━━━━━━\u001b[0m\u001b[37m\u001b[0m \u001b[1m0s\u001b[0m 10ms/step - loss: 6.6693 - mae: 1.7925 - mape: 8.7277\n",
            "Epoch 133/200\n",
            "\u001b[1m7/7\u001b[0m \u001b[32m━━━━━━━━━━━━━━━━━━━━\u001b[0m\u001b[37m\u001b[0m \u001b[1m0s\u001b[0m 11ms/step - loss: 5.3292 - mae: 1.5779 - mape: 8.2574\n",
            "Epoch 134/200\n",
            "\u001b[1m7/7\u001b[0m \u001b[32m━━━━━━━━━━━━━━━━━━━━\u001b[0m\u001b[37m\u001b[0m \u001b[1m0s\u001b[0m 12ms/step - loss: 4.7871 - mae: 1.5436 - mape: 7.8890\n",
            "Epoch 135/200\n",
            "\u001b[1m7/7\u001b[0m \u001b[32m━━━━━━━━━━━━━━━━━━━━\u001b[0m\u001b[37m\u001b[0m \u001b[1m0s\u001b[0m 12ms/step - loss: 5.0929 - mae: 1.4895 - mape: 7.7645\n",
            "Epoch 136/200\n",
            "\u001b[1m7/7\u001b[0m \u001b[32m━━━━━━━━━━━━━━━━━━━━\u001b[0m\u001b[37m\u001b[0m \u001b[1m0s\u001b[0m 11ms/step - loss: 4.1875 - mae: 1.4406 - mape: 7.5540\n",
            "Epoch 137/200\n",
            "\u001b[1m7/7\u001b[0m \u001b[32m━━━━━━━━━━━━━━━━━━━━\u001b[0m\u001b[37m\u001b[0m \u001b[1m0s\u001b[0m 11ms/step - loss: 4.6948 - mae: 1.5215 - mape: 7.6627\n",
            "Epoch 138/200\n",
            "\u001b[1m7/7\u001b[0m \u001b[32m━━━━━━━━━━━━━━━━━━━━\u001b[0m\u001b[37m\u001b[0m \u001b[1m0s\u001b[0m 13ms/step - loss: 14.4280 - mae: 2.4751 - mape: 13.2090\n",
            "Epoch 139/200\n",
            "\u001b[1m7/7\u001b[0m \u001b[32m━━━━━━━━━━━━━━━━━━━━\u001b[0m\u001b[37m\u001b[0m \u001b[1m0s\u001b[0m 11ms/step - loss: 7.1405 - mae: 1.7898 - mape: 9.0633  \n",
            "Epoch 140/200\n",
            "\u001b[1m7/7\u001b[0m \u001b[32m━━━━━━━━━━━━━━━━━━━━\u001b[0m\u001b[37m\u001b[0m \u001b[1m0s\u001b[0m 11ms/step - loss: 5.4310 - mae: 1.6335 - mape: 7.9272\n",
            "Epoch 141/200\n",
            "\u001b[1m7/7\u001b[0m \u001b[32m━━━━━━━━━━━━━━━━━━━━\u001b[0m\u001b[37m\u001b[0m \u001b[1m0s\u001b[0m 12ms/step - loss: 8.9148 - mae: 2.0595 - mape: 9.3406\n",
            "Epoch 142/200\n",
            "\u001b[1m7/7\u001b[0m \u001b[32m━━━━━━━━━━━━━━━━━━━━\u001b[0m\u001b[37m\u001b[0m \u001b[1m0s\u001b[0m 13ms/step - loss: 4.5579 - mae: 1.5049 - mape: 7.7228\n",
            "Epoch 143/200\n",
            "\u001b[1m7/7\u001b[0m \u001b[32m━━━━━━━━━━━━━━━━━━━━\u001b[0m\u001b[37m\u001b[0m \u001b[1m0s\u001b[0m 13ms/step - loss: 4.2612 - mae: 1.5087 - mape: 7.6889\n",
            "Epoch 144/200\n",
            "\u001b[1m7/7\u001b[0m \u001b[32m━━━━━━━━━━━━━━━━━━━━\u001b[0m\u001b[37m\u001b[0m \u001b[1m0s\u001b[0m 9ms/step - loss: 4.4730 - mae: 1.4775 - mape: 7.3665 \n",
            "Epoch 145/200\n",
            "\u001b[1m7/7\u001b[0m \u001b[32m━━━━━━━━━━━━━━━━━━━━\u001b[0m\u001b[37m\u001b[0m \u001b[1m0s\u001b[0m 10ms/step - loss: 6.0732 - mae: 1.7917 - mape: 8.7743\n",
            "Epoch 146/200\n",
            "\u001b[1m7/7\u001b[0m \u001b[32m━━━━━━━━━━━━━━━━━━━━\u001b[0m\u001b[37m\u001b[0m \u001b[1m0s\u001b[0m 9ms/step - loss: 7.9034 - mae: 2.0121 - mape: 9.3177 \n",
            "Epoch 147/200\n",
            "\u001b[1m7/7\u001b[0m \u001b[32m━━━━━━━━━━━━━━━━━━━━\u001b[0m\u001b[37m\u001b[0m \u001b[1m0s\u001b[0m 8ms/step - loss: 7.3915 - mae: 1.8786 - mape: 8.6237 \n",
            "Epoch 148/200\n",
            "\u001b[1m7/7\u001b[0m \u001b[32m━━━━━━━━━━━━━━━━━━━━\u001b[0m\u001b[37m\u001b[0m \u001b[1m0s\u001b[0m 8ms/step - loss: 4.3714 - mae: 1.4501 - mape: 7.9835 \n",
            "Epoch 149/200\n",
            "\u001b[1m7/7\u001b[0m \u001b[32m━━━━━━━━━━━━━━━━━━━━\u001b[0m\u001b[37m\u001b[0m \u001b[1m0s\u001b[0m 8ms/step - loss: 5.5283 - mae: 1.7020 - mape: 8.3140 \n",
            "Epoch 150/200\n",
            "\u001b[1m7/7\u001b[0m \u001b[32m━━━━━━━━━━━━━━━━━━━━\u001b[0m\u001b[37m\u001b[0m \u001b[1m0s\u001b[0m 8ms/step - loss: 4.4647 - mae: 1.5412 - mape: 7.3448 \n",
            "Epoch 151/200\n",
            "\u001b[1m7/7\u001b[0m \u001b[32m━━━━━━━━━━━━━━━━━━━━\u001b[0m\u001b[37m\u001b[0m \u001b[1m0s\u001b[0m 11ms/step - loss: 3.4203 - mae: 1.3306 - mape: 6.6103\n",
            "Epoch 152/200\n",
            "\u001b[1m7/7\u001b[0m \u001b[32m━━━━━━━━━━━━━━━━━━━━\u001b[0m\u001b[37m\u001b[0m \u001b[1m0s\u001b[0m 8ms/step - loss: 4.6644 - mae: 1.5991 - mape: 8.1500 \n",
            "Epoch 153/200\n",
            "\u001b[1m7/7\u001b[0m \u001b[32m━━━━━━━━━━━━━━━━━━━━\u001b[0m\u001b[37m\u001b[0m \u001b[1m0s\u001b[0m 8ms/step - loss: 5.1347 - mae: 1.6467 - mape: 8.3635 \n",
            "Epoch 154/200\n",
            "\u001b[1m7/7\u001b[0m \u001b[32m━━━━━━━━━━━━━━━━━━━━\u001b[0m\u001b[37m\u001b[0m \u001b[1m0s\u001b[0m 7ms/step - loss: 6.5543 - mae: 1.8070 - mape: 8.8882   \n",
            "Epoch 155/200\n",
            "\u001b[1m7/7\u001b[0m \u001b[32m━━━━━━━━━━━━━━━━━━━━\u001b[0m\u001b[37m\u001b[0m \u001b[1m0s\u001b[0m 9ms/step - loss: 3.6890 - mae: 1.3300 - mape: 7.0035 \n",
            "Epoch 156/200\n",
            "\u001b[1m7/7\u001b[0m \u001b[32m━━━━━━━━━━━━━━━━━━━━\u001b[0m\u001b[37m\u001b[0m \u001b[1m0s\u001b[0m 8ms/step - loss: 4.0506 - mae: 1.4759 - mape: 7.5537 \n",
            "Epoch 157/200\n",
            "\u001b[1m7/7\u001b[0m \u001b[32m━━━━━━━━━━━━━━━━━━━━\u001b[0m\u001b[37m\u001b[0m \u001b[1m0s\u001b[0m 8ms/step - loss: 3.2482 - mae: 1.3162 - mape: 6.9674 \n",
            "Epoch 158/200\n",
            "\u001b[1m7/7\u001b[0m \u001b[32m━━━━━━━━━━━━━━━━━━━━\u001b[0m\u001b[37m\u001b[0m \u001b[1m0s\u001b[0m 8ms/step - loss: 6.6056 - mae: 1.8177 - mape: 8.4270 \n",
            "Epoch 159/200\n",
            "\u001b[1m7/7\u001b[0m \u001b[32m━━━━━━━━━━━━━━━━━━━━\u001b[0m\u001b[37m\u001b[0m \u001b[1m0s\u001b[0m 8ms/step - loss: 4.2225 - mae: 1.4644 - mape: 7.7156 \n",
            "Epoch 160/200\n",
            "\u001b[1m7/7\u001b[0m \u001b[32m━━━━━━━━━━━━━━━━━━━━\u001b[0m\u001b[37m\u001b[0m \u001b[1m0s\u001b[0m 11ms/step - loss: 4.3782 - mae: 1.3898 - mape: 7.1927\n",
            "Epoch 161/200\n",
            "\u001b[1m7/7\u001b[0m \u001b[32m━━━━━━━━━━━━━━━━━━━━\u001b[0m\u001b[37m\u001b[0m \u001b[1m0s\u001b[0m 9ms/step - loss: 5.1902 - mae: 1.5736 - mape: 8.7112  \n",
            "Epoch 162/200\n",
            "\u001b[1m7/7\u001b[0m \u001b[32m━━━━━━━━━━━━━━━━━━━━\u001b[0m\u001b[37m\u001b[0m \u001b[1m0s\u001b[0m 8ms/step - loss: 4.6227 - mae: 1.4824 - mape: 7.6976 \n",
            "Epoch 163/200\n",
            "\u001b[1m7/7\u001b[0m \u001b[32m━━━━━━━━━━━━━━━━━━━━\u001b[0m\u001b[37m\u001b[0m \u001b[1m0s\u001b[0m 8ms/step - loss: 4.1980 - mae: 1.5164 - mape: 7.6860 \n",
            "Epoch 164/200\n",
            "\u001b[1m7/7\u001b[0m \u001b[32m━━━━━━━━━━━━━━━━━━━━\u001b[0m\u001b[37m\u001b[0m \u001b[1m0s\u001b[0m 7ms/step - loss: 9.9305 - mae: 2.1942 - mape: 10.5132  \n",
            "Epoch 165/200\n",
            "\u001b[1m7/7\u001b[0m \u001b[32m━━━━━━━━━━━━━━━━━━━━\u001b[0m\u001b[37m\u001b[0m \u001b[1m0s\u001b[0m 7ms/step - loss: 4.2253 - mae: 1.4749 - mape: 7.6006 \n",
            "Epoch 166/200\n",
            "\u001b[1m7/7\u001b[0m \u001b[32m━━━━━━━━━━━━━━━━━━━━\u001b[0m\u001b[37m\u001b[0m \u001b[1m0s\u001b[0m 8ms/step - loss: 4.2144 - mae: 1.4647 - mape: 7.6203 \n",
            "Epoch 167/200\n",
            "\u001b[1m7/7\u001b[0m \u001b[32m━━━━━━━━━━━━━━━━━━━━\u001b[0m\u001b[37m\u001b[0m \u001b[1m0s\u001b[0m 7ms/step - loss: 4.1299 - mae: 1.4608 - mape: 8.0072 \n",
            "Epoch 168/200\n",
            "\u001b[1m7/7\u001b[0m \u001b[32m━━━━━━━━━━━━━━━━━━━━\u001b[0m\u001b[37m\u001b[0m \u001b[1m0s\u001b[0m 8ms/step - loss: 4.2753 - mae: 1.4533 - mape: 7.3812 \n",
            "Epoch 169/200\n",
            "\u001b[1m7/7\u001b[0m \u001b[32m━━━━━━━━━━━━━━━━━━━━\u001b[0m\u001b[37m\u001b[0m \u001b[1m0s\u001b[0m 8ms/step - loss: 4.5088 - mae: 1.5290 - mape: 7.5764 \n",
            "Epoch 170/200\n",
            "\u001b[1m7/7\u001b[0m \u001b[32m━━━━━━━━━━━━━━━━━━━━\u001b[0m\u001b[37m\u001b[0m \u001b[1m0s\u001b[0m 10ms/step - loss: 3.8874 - mae: 1.3879 - mape: 7.3141\n",
            "Epoch 171/200\n",
            "\u001b[1m7/7\u001b[0m \u001b[32m━━━━━━━━━━━━━━━━━━━━\u001b[0m\u001b[37m\u001b[0m \u001b[1m0s\u001b[0m 9ms/step - loss: 4.2368 - mae: 1.4311 - mape: 7.4768 \n",
            "Epoch 172/200\n",
            "\u001b[1m7/7\u001b[0m \u001b[32m━━━━━━━━━━━━━━━━━━━━\u001b[0m\u001b[37m\u001b[0m \u001b[1m0s\u001b[0m 8ms/step - loss: 5.1941 - mae: 1.6703 - mape: 8.2488 \n",
            "Epoch 173/200\n",
            "\u001b[1m7/7\u001b[0m \u001b[32m━━━━━━━━━━━━━━━━━━━━\u001b[0m\u001b[37m\u001b[0m \u001b[1m0s\u001b[0m 8ms/step - loss: 3.6553 - mae: 1.4115 - mape: 7.4976 \n",
            "Epoch 174/200\n",
            "\u001b[1m7/7\u001b[0m \u001b[32m━━━━━━━━━━━━━━━━━━━━\u001b[0m\u001b[37m\u001b[0m \u001b[1m0s\u001b[0m 9ms/step - loss: 5.9578 - mae: 1.6539 - mape: 8.0384 \n",
            "Epoch 175/200\n",
            "\u001b[1m7/7\u001b[0m \u001b[32m━━━━━━━━━━━━━━━━━━━━\u001b[0m\u001b[37m\u001b[0m \u001b[1m0s\u001b[0m 8ms/step - loss: 5.3093 - mae: 1.7042 - mape: 8.8035  \n",
            "Epoch 176/200\n",
            "\u001b[1m7/7\u001b[0m \u001b[32m━━━━━━━━━━━━━━━━━━━━\u001b[0m\u001b[37m\u001b[0m \u001b[1m0s\u001b[0m 8ms/step - loss: 3.9890 - mae: 1.4476 - mape: 7.3279 \n",
            "Epoch 177/200\n",
            "\u001b[1m7/7\u001b[0m \u001b[32m━━━━━━━━━━━━━━━━━━━━\u001b[0m\u001b[37m\u001b[0m \u001b[1m0s\u001b[0m 8ms/step - loss: 3.6917 - mae: 1.3975 - mape: 7.3558 \n",
            "Epoch 178/200\n",
            "\u001b[1m7/7\u001b[0m \u001b[32m━━━━━━━━━━━━━━━━━━━━\u001b[0m\u001b[37m\u001b[0m \u001b[1m0s\u001b[0m 8ms/step - loss: 4.1147 - mae: 1.3942 - mape: 7.2192 \n",
            "Epoch 179/200\n",
            "\u001b[1m7/7\u001b[0m \u001b[32m━━━━━━━━━━━━━━━━━━━━\u001b[0m\u001b[37m\u001b[0m \u001b[1m0s\u001b[0m 8ms/step - loss: 9.3470 - mae: 2.1303 - mape: 9.6817   \n",
            "Epoch 180/200\n",
            "\u001b[1m7/7\u001b[0m \u001b[32m━━━━━━━━━━━━━━━━━━━━\u001b[0m\u001b[37m\u001b[0m \u001b[1m0s\u001b[0m 8ms/step - loss: 4.3212 - mae: 1.4523 - mape: 7.0200 \n",
            "Epoch 181/200\n",
            "\u001b[1m7/7\u001b[0m \u001b[32m━━━━━━━━━━━━━━━━━━━━\u001b[0m\u001b[37m\u001b[0m \u001b[1m0s\u001b[0m 9ms/step - loss: 4.4537 - mae: 1.5102 - mape: 8.2859 \n",
            "Epoch 182/200\n",
            "\u001b[1m7/7\u001b[0m \u001b[32m━━━━━━━━━━━━━━━━━━━━\u001b[0m\u001b[37m\u001b[0m \u001b[1m0s\u001b[0m 7ms/step - loss: 3.1848 - mae: 1.2535 - mape: 6.7215 \n",
            "Epoch 183/200\n",
            "\u001b[1m7/7\u001b[0m \u001b[32m━━━━━━━━━━━━━━━━━━━━\u001b[0m\u001b[37m\u001b[0m \u001b[1m0s\u001b[0m 8ms/step - loss: 3.3886 - mae: 1.3433 - mape: 7.3964 \n",
            "Epoch 184/200\n",
            "\u001b[1m7/7\u001b[0m \u001b[32m━━━━━━━━━━━━━━━━━━━━\u001b[0m\u001b[37m\u001b[0m \u001b[1m0s\u001b[0m 7ms/step - loss: 4.0254 - mae: 1.4582 - mape: 7.4591 \n",
            "Epoch 185/200\n",
            "\u001b[1m7/7\u001b[0m \u001b[32m━━━━━━━━━━━━━━━━━━━━\u001b[0m\u001b[37m\u001b[0m \u001b[1m0s\u001b[0m 8ms/step - loss: 3.5274 - mae: 1.3332 - mape: 6.7697 \n",
            "Epoch 186/200\n",
            "\u001b[1m7/7\u001b[0m \u001b[32m━━━━━━━━━━━━━━━━━━━━\u001b[0m\u001b[37m\u001b[0m \u001b[1m0s\u001b[0m 9ms/step - loss: 3.3562 - mae: 1.3489 - mape: 7.2698 \n",
            "Epoch 187/200\n",
            "\u001b[1m7/7\u001b[0m \u001b[32m━━━━━━━━━━━━━━━━━━━━\u001b[0m\u001b[37m\u001b[0m \u001b[1m0s\u001b[0m 8ms/step - loss: 3.2720 - mae: 1.2966 - mape: 6.8866 \n",
            "Epoch 188/200\n",
            "\u001b[1m7/7\u001b[0m \u001b[32m━━━━━━━━━━━━━━━━━━━━\u001b[0m\u001b[37m\u001b[0m \u001b[1m0s\u001b[0m 7ms/step - loss: 3.3731 - mae: 1.3088 - mape: 6.8926 \n",
            "Epoch 189/200\n",
            "\u001b[1m7/7\u001b[0m \u001b[32m━━━━━━━━━━━━━━━━━━━━\u001b[0m\u001b[37m\u001b[0m \u001b[1m0s\u001b[0m 7ms/step - loss: 3.5760 - mae: 1.3232 - mape: 7.2701 \n",
            "Epoch 190/200\n",
            "\u001b[1m7/7\u001b[0m \u001b[32m━━━━━━━━━━━━━━━━━━━━\u001b[0m\u001b[37m\u001b[0m \u001b[1m0s\u001b[0m 8ms/step - loss: 3.5988 - mae: 1.4528 - mape: 7.4116 \n",
            "Epoch 191/200\n",
            "\u001b[1m7/7\u001b[0m \u001b[32m━━━━━━━━━━━━━━━━━━━━\u001b[0m\u001b[37m\u001b[0m \u001b[1m0s\u001b[0m 8ms/step - loss: 3.7455 - mae: 1.3672 - mape: 7.3688 \n",
            "Epoch 192/200\n",
            "\u001b[1m7/7\u001b[0m \u001b[32m━━━━━━━━━━━━━━━━━━━━\u001b[0m\u001b[37m\u001b[0m \u001b[1m0s\u001b[0m 8ms/step - loss: 4.6826 - mae: 1.5455 - mape: 7.6204 \n",
            "Epoch 193/200\n",
            "\u001b[1m7/7\u001b[0m \u001b[32m━━━━━━━━━━━━━━━━━━━━\u001b[0m\u001b[37m\u001b[0m \u001b[1m0s\u001b[0m 7ms/step - loss: 3.7248 - mae: 1.3698 - mape: 6.9126 \n",
            "Epoch 194/200\n",
            "\u001b[1m7/7\u001b[0m \u001b[32m━━━━━━━━━━━━━━━━━━━━\u001b[0m\u001b[37m\u001b[0m \u001b[1m0s\u001b[0m 8ms/step - loss: 8.6523 - mae: 2.0379 - mape: 8.8526  \n",
            "Epoch 195/200\n",
            "\u001b[1m7/7\u001b[0m \u001b[32m━━━━━━━━━━━━━━━━━━━━\u001b[0m\u001b[37m\u001b[0m \u001b[1m0s\u001b[0m 8ms/step - loss: 4.8375 - mae: 1.5481 - mape: 8.9862  \n",
            "Epoch 196/200\n",
            "\u001b[1m7/7\u001b[0m \u001b[32m━━━━━━━━━━━━━━━━━━━━\u001b[0m\u001b[37m\u001b[0m \u001b[1m0s\u001b[0m 9ms/step - loss: 9.4967 - mae: 1.9845 - mape: 10.7310  \n",
            "Epoch 197/200\n",
            "\u001b[1m7/7\u001b[0m \u001b[32m━━━━━━━━━━━━━━━━━━━━\u001b[0m\u001b[37m\u001b[0m \u001b[1m0s\u001b[0m 8ms/step - loss: 7.4705 - mae: 1.8513 - mape: 8.2314 \n",
            "Epoch 198/200\n",
            "\u001b[1m7/7\u001b[0m \u001b[32m━━━━━━━━━━━━━━━━━━━━\u001b[0m\u001b[37m\u001b[0m \u001b[1m0s\u001b[0m 9ms/step - loss: 3.9150 - mae: 1.3930 - mape: 7.0552 \n",
            "Epoch 199/200\n",
            "\u001b[1m7/7\u001b[0m \u001b[32m━━━━━━━━━━━━━━━━━━━━\u001b[0m\u001b[37m\u001b[0m \u001b[1m0s\u001b[0m 7ms/step - loss: 3.7590 - mae: 1.3983 - mape: 7.2651 \n",
            "Epoch 200/200\n",
            "\u001b[1m7/7\u001b[0m \u001b[32m━━━━━━━━━━━━━━━━━━━━\u001b[0m\u001b[37m\u001b[0m \u001b[1m0s\u001b[0m 8ms/step - loss: 4.0953 - mae: 1.4685 - mape: 7.2042 \n"
          ]
        },
        {
          "output_type": "execute_result",
          "data": {
            "text/plain": [
              "<keras.src.callbacks.history.History at 0x788c07b21210>"
            ]
          },
          "metadata": {},
          "execution_count": 28
        }
      ],
      "source": [
        "model.fit(\n",
        "    X_train,\n",
        "    y_train,\n",
        "    epochs=200,\n",
        "    batch_size=64,\n",
        "    callbacks=[tbCallBack]\n",
        ")"
      ]
    },
    {
      "cell_type": "markdown",
      "metadata": {
        "id": "dJ7b2iuBcqCe"
      },
      "source": [
        "Nach dem Training verwenden wir die Testdaten, um unser trainiertes Modell zu evaluieren"
      ]
    },
    {
      "cell_type": "code",
      "execution_count": 29,
      "metadata": {
        "colab": {
          "base_uri": "https://localhost:8080/"
        },
        "id": "xZ9236ADcqCe",
        "outputId": "668cd2be-8c67-4424-d7db-c4c6dae709ea"
      },
      "outputs": [
        {
          "output_type": "stream",
          "name": "stdout",
          "text": [
            "Mittlwert der Fehlerquadrate:  11.1054048538208\n",
            "Mittlerer absoluter Fehler:  2.248093843460083\n",
            "Mittlerer absoluter Fehler (in Prozent):  11.921957969665527\n"
          ]
        }
      ],
      "source": [
        "mse_score, mae_score, mape_score = model.evaluate(X_test, y_test, verbose=False)\n",
        "print(\"Mittlwert der Fehlerquadrate: \", mse_score)\n",
        "print(\"Mittlerer absoluter Fehler: \", mae_score)\n",
        "print(\"Mittlerer absoluter Fehler (in Prozent): \", mape_score)"
      ]
    },
    {
      "cell_type": "markdown",
      "metadata": {
        "id": "1OEkWdeVcqCf"
      },
      "source": [
        "Das Trainierte Modell schätzt die Häuserpreise vermutlich nicht sonderlich gut.\n",
        "Dies liegt an der sehr unglücklichen Wahl der (Hyper-)Parameter.\n",
        "Versuchen Sie die Parameter sinnvoll anzupassen, sodass sich die Qualität der Schaätzfunktion verbessert.\n",
        "\n",
        "Um die Log-Dateien sowie den Modellgraphnen zu visualisieren, können die Tensorboard verwenden.\n",
        "Rufen Sie daszu (im Verzeichnis der *.ipynb* Datei) das Kommando `tensorboard --logdir=./keras_data` auf.\n",
        "Wenn Tensorboard gestartet ist, erreichen Sie die Web-Oberfläche unter der URL `localhost:8008`."
      ]
    },
    {
      "cell_type": "code",
      "execution_count": 30,
      "metadata": {
        "colab": {
          "base_uri": "https://localhost:8080/"
        },
        "id": "B4XioFzIcqCf",
        "outputId": "40687bba-c6c8-408a-bc89-5e9971d32f35"
      },
      "outputs": [
        {
          "output_type": "stream",
          "name": "stdout",
          "text": [
            "(13, 32)\n",
            "(32,)\n",
            "(32, 64)\n",
            "(64,)\n",
            "(64, 1)\n",
            "(1,)\n"
          ]
        }
      ],
      "source": [
        "for a in model.get_weights():\n",
        "    print(np.shape(a))"
      ]
    },
    {
      "cell_type": "code",
      "execution_count": 31,
      "metadata": {
        "colab": {
          "base_uri": "https://localhost:8080/",
          "height": 255
        },
        "id": "dlzITAMucqCf",
        "outputId": "580b87bf-dfbc-41fa-90a6-d01e0e202408"
      },
      "outputs": [
        {
          "output_type": "display_data",
          "data": {
            "text/plain": [
              "\u001b[1mModel: \"sequential\"\u001b[0m\n"
            ],
            "text/html": [
              "<pre style=\"white-space:pre;overflow-x:auto;line-height:normal;font-family:Menlo,'DejaVu Sans Mono',consolas,'Courier New',monospace\"><span style=\"font-weight: bold\">Model: \"sequential\"</span>\n",
              "</pre>\n"
            ]
          },
          "metadata": {}
        },
        {
          "output_type": "display_data",
          "data": {
            "text/plain": [
              "┏━━━━━━━━━━━━━━━━━━━━━━━━━━━━━━━━━┳━━━━━━━━━━━━━━━━━━━━━━━━┳━━━━━━━━━━━━━━━┓\n",
              "┃\u001b[1m \u001b[0m\u001b[1mLayer (type)                   \u001b[0m\u001b[1m \u001b[0m┃\u001b[1m \u001b[0m\u001b[1mOutput Shape          \u001b[0m\u001b[1m \u001b[0m┃\u001b[1m \u001b[0m\u001b[1m      Param #\u001b[0m\u001b[1m \u001b[0m┃\n",
              "┡━━━━━━━━━━━━━━━━━━━━━━━━━━━━━━━━━╇━━━━━━━━━━━━━━━━━━━━━━━━╇━━━━━━━━━━━━━━━┩\n",
              "│ dense (\u001b[38;5;33mDense\u001b[0m)                   │ (\u001b[38;5;45mNone\u001b[0m, \u001b[38;5;34m32\u001b[0m)             │           \u001b[38;5;34m448\u001b[0m │\n",
              "├─────────────────────────────────┼────────────────────────┼───────────────┤\n",
              "│ dense_1 (\u001b[38;5;33mDense\u001b[0m)                 │ (\u001b[38;5;45mNone\u001b[0m, \u001b[38;5;34m64\u001b[0m)             │         \u001b[38;5;34m2,112\u001b[0m │\n",
              "├─────────────────────────────────┼────────────────────────┼───────────────┤\n",
              "│ dense_2 (\u001b[38;5;33mDense\u001b[0m)                 │ (\u001b[38;5;45mNone\u001b[0m, \u001b[38;5;34m1\u001b[0m)              │            \u001b[38;5;34m65\u001b[0m │\n",
              "└─────────────────────────────────┴────────────────────────┴───────────────┘\n"
            ],
            "text/html": [
              "<pre style=\"white-space:pre;overflow-x:auto;line-height:normal;font-family:Menlo,'DejaVu Sans Mono',consolas,'Courier New',monospace\">┏━━━━━━━━━━━━━━━━━━━━━━━━━━━━━━━━━┳━━━━━━━━━━━━━━━━━━━━━━━━┳━━━━━━━━━━━━━━━┓\n",
              "┃<span style=\"font-weight: bold\"> Layer (type)                    </span>┃<span style=\"font-weight: bold\"> Output Shape           </span>┃<span style=\"font-weight: bold\">       Param # </span>┃\n",
              "┡━━━━━━━━━━━━━━━━━━━━━━━━━━━━━━━━━╇━━━━━━━━━━━━━━━━━━━━━━━━╇━━━━━━━━━━━━━━━┩\n",
              "│ dense (<span style=\"color: #0087ff; text-decoration-color: #0087ff\">Dense</span>)                   │ (<span style=\"color: #00d7ff; text-decoration-color: #00d7ff\">None</span>, <span style=\"color: #00af00; text-decoration-color: #00af00\">32</span>)             │           <span style=\"color: #00af00; text-decoration-color: #00af00\">448</span> │\n",
              "├─────────────────────────────────┼────────────────────────┼───────────────┤\n",
              "│ dense_1 (<span style=\"color: #0087ff; text-decoration-color: #0087ff\">Dense</span>)                 │ (<span style=\"color: #00d7ff; text-decoration-color: #00d7ff\">None</span>, <span style=\"color: #00af00; text-decoration-color: #00af00\">64</span>)             │         <span style=\"color: #00af00; text-decoration-color: #00af00\">2,112</span> │\n",
              "├─────────────────────────────────┼────────────────────────┼───────────────┤\n",
              "│ dense_2 (<span style=\"color: #0087ff; text-decoration-color: #0087ff\">Dense</span>)                 │ (<span style=\"color: #00d7ff; text-decoration-color: #00d7ff\">None</span>, <span style=\"color: #00af00; text-decoration-color: #00af00\">1</span>)              │            <span style=\"color: #00af00; text-decoration-color: #00af00\">65</span> │\n",
              "└─────────────────────────────────┴────────────────────────┴───────────────┘\n",
              "</pre>\n"
            ]
          },
          "metadata": {}
        },
        {
          "output_type": "display_data",
          "data": {
            "text/plain": [
              "\u001b[1m Total params: \u001b[0m\u001b[38;5;34m2,627\u001b[0m (10.27 KB)\n"
            ],
            "text/html": [
              "<pre style=\"white-space:pre;overflow-x:auto;line-height:normal;font-family:Menlo,'DejaVu Sans Mono',consolas,'Courier New',monospace\"><span style=\"font-weight: bold\"> Total params: </span><span style=\"color: #00af00; text-decoration-color: #00af00\">2,627</span> (10.27 KB)\n",
              "</pre>\n"
            ]
          },
          "metadata": {}
        },
        {
          "output_type": "display_data",
          "data": {
            "text/plain": [
              "\u001b[1m Trainable params: \u001b[0m\u001b[38;5;34m2,625\u001b[0m (10.25 KB)\n"
            ],
            "text/html": [
              "<pre style=\"white-space:pre;overflow-x:auto;line-height:normal;font-family:Menlo,'DejaVu Sans Mono',consolas,'Courier New',monospace\"><span style=\"font-weight: bold\"> Trainable params: </span><span style=\"color: #00af00; text-decoration-color: #00af00\">2,625</span> (10.25 KB)\n",
              "</pre>\n"
            ]
          },
          "metadata": {}
        },
        {
          "output_type": "display_data",
          "data": {
            "text/plain": [
              "\u001b[1m Non-trainable params: \u001b[0m\u001b[38;5;34m0\u001b[0m (0.00 B)\n"
            ],
            "text/html": [
              "<pre style=\"white-space:pre;overflow-x:auto;line-height:normal;font-family:Menlo,'DejaVu Sans Mono',consolas,'Courier New',monospace\"><span style=\"font-weight: bold\"> Non-trainable params: </span><span style=\"color: #00af00; text-decoration-color: #00af00\">0</span> (0.00 B)\n",
              "</pre>\n"
            ]
          },
          "metadata": {}
        },
        {
          "output_type": "display_data",
          "data": {
            "text/plain": [
              "\u001b[1m Optimizer params: \u001b[0m\u001b[38;5;34m2\u001b[0m (12.00 B)\n"
            ],
            "text/html": [
              "<pre style=\"white-space:pre;overflow-x:auto;line-height:normal;font-family:Menlo,'DejaVu Sans Mono',consolas,'Courier New',monospace\"><span style=\"font-weight: bold\"> Optimizer params: </span><span style=\"color: #00af00; text-decoration-color: #00af00\">2</span> (12.00 B)\n",
              "</pre>\n"
            ]
          },
          "metadata": {}
        }
      ],
      "source": [
        "model.summary()"
      ]
    },
    {
      "cell_type": "markdown",
      "metadata": {
        "id": "TrYZceA5cqCf"
      },
      "source": [
        "Wir verwenden nun in einem zweiten Beispiel Keras mit dem MNIST Datensatz:\n",
        "\n",
        "### Beschaffen der Daten und Vorverarbeiten\n",
        "\n",
        "1. Daten mit `datasets.mnist.load_data()` laden\n",
        "2. Bilder in eindimensionale Arrays umwandeln mit `reshape`. Teilen durch 255 um zu Normalisieren.\n",
        "3. One-Hot Encoding der Labels mit `utils.to_categorical`"
      ]
    },
    {
      "cell_type": "code",
      "execution_count": 47,
      "metadata": {
        "deletable": false,
        "nbgrader": {
          "grade": false,
          "grade_id": "cell-a1780d72ee450607",
          "locked": false,
          "schema_version": 3,
          "solution": true,
          "task": false
        },
        "id": "GMEcUsK5cqCf"
      },
      "outputs": [],
      "source": [
        "# Data loading\n",
        "(X_train, y_train), (X_test, y_test) = datasets.mnist.load_data()\n",
        "#(None, None), (None, None)\n",
        "# YOUR CODE HERE\n",
        "X_train=X_train.reshape(len(X_train),784)/255\n",
        "X_test=X_test.reshape(len(X_test),784)/255\n",
        "y_train=y_train/255\n",
        "y_test=y_test/255\n",
        "\n",
        "y_train = utils.to_categorical(y_train)\n",
        "y_test = utils.to_categorical(y_test)\n",
        "\n",
        "# Data preprocessing\n",
        "# YOUR CODE HERE\n"
      ]
    },
    {
      "cell_type": "code",
      "execution_count": 48,
      "metadata": {
        "deletable": false,
        "editable": false,
        "nbgrader": {
          "grade": true,
          "grade_id": "cell-b51934e76e8f110e",
          "locked": true,
          "points": 1,
          "schema_version": 3,
          "solution": false,
          "task": false
        },
        "colab": {
          "base_uri": "https://localhost:8080/",
          "height": 211
        },
        "id": "4uC9wLadcqCf",
        "outputId": "2e018fba-a11d-4a23-d14d-d94352047a06"
      },
      "outputs": [
        {
          "output_type": "error",
          "ename": "AttributeError",
          "evalue": "`ptp` was removed from the ndarray class in NumPy 2.0. Use np.ptp(arr, ...) instead.",
          "traceback": [
            "\u001b[0;31m---------------------------------------------------------------------------\u001b[0m",
            "\u001b[0;31mAttributeError\u001b[0m                            Traceback (most recent call last)",
            "\u001b[0;32m<ipython-input-48-2d9912037c7d>\u001b[0m in \u001b[0;36m<cell line: 0>\u001b[0;34m()\u001b[0m\n\u001b[1;32m      2\u001b[0m \u001b[0;31m#----------\u001b[0m\u001b[0;34m\u001b[0m\u001b[0;34m\u001b[0m\u001b[0m\n\u001b[1;32m      3\u001b[0m \u001b[0;34m\u001b[0m\u001b[0m\n\u001b[0;32m----> 4\u001b[0;31m \u001b[0;32massert\u001b[0m \u001b[0mX_train\u001b[0m\u001b[0;34m.\u001b[0m\u001b[0mptp\u001b[0m\u001b[0;34m(\u001b[0m\u001b[0;34m)\u001b[0m \u001b[0;34m==\u001b[0m \u001b[0mX_test\u001b[0m\u001b[0;34m.\u001b[0m\u001b[0mptp\u001b[0m\u001b[0;34m(\u001b[0m\u001b[0;34m)\u001b[0m \u001b[0;34m==\u001b[0m \u001b[0;36m1\u001b[0m\u001b[0;34m,\u001b[0m \u001b[0;34m'Data is not nomalized'\u001b[0m\u001b[0;34m\u001b[0m\u001b[0;34m\u001b[0m\u001b[0m\n\u001b[0m\u001b[1;32m      5\u001b[0m \u001b[0;32massert\u001b[0m \u001b[0mX_train\u001b[0m\u001b[0;34m.\u001b[0m\u001b[0mshape\u001b[0m \u001b[0;34m==\u001b[0m \u001b[0;34m(\u001b[0m\u001b[0;36m60000\u001b[0m\u001b[0;34m,\u001b[0m \u001b[0;36m784\u001b[0m\u001b[0;34m)\u001b[0m\u001b[0;34m\u001b[0m\u001b[0;34m\u001b[0m\u001b[0m\n\u001b[1;32m      6\u001b[0m \u001b[0;32massert\u001b[0m \u001b[0mX_test\u001b[0m\u001b[0;34m.\u001b[0m\u001b[0mshape\u001b[0m \u001b[0;34m==\u001b[0m \u001b[0;34m(\u001b[0m\u001b[0;36m10000\u001b[0m\u001b[0;34m,\u001b[0m \u001b[0;36m784\u001b[0m\u001b[0;34m)\u001b[0m\u001b[0;34m\u001b[0m\u001b[0;34m\u001b[0m\u001b[0m\n",
            "\u001b[0;31mAttributeError\u001b[0m: `ptp` was removed from the ndarray class in NumPy 2.0. Use np.ptp(arr, ...) instead."
          ]
        }
      ],
      "source": [
        "# Test Cell\n",
        "#----------\n",
        "\n",
        "assert X_train.ptp() == X_test.ptp() == 1, 'Data is not nomalized'\n",
        "assert X_train.shape == (60000, 784)\n",
        "assert X_test.shape == (10000, 784)\n",
        "assert y_train.shape == (60000, 10), 'Make sure to one hot encode train labels'\n",
        "assert y_test.shape == (10000, 10), 'Make sure to one hot encode test labels'"
      ]
    },
    {
      "cell_type": "markdown",
      "metadata": {
        "id": "NAeAfIsjcqCf"
      },
      "source": [
        "### Das Modell aufstellen\n",
        "Erstellen Sie ein Modell mit geeigneten Hyperparametern:\n",
        "\n",
        "*Hinweise:*\n",
        "- Verwenden Sie die `softmax` Aktivierungsfunktion um die Ausgabeschicht in eine Wahrscheinlichkeitsfunktion umzuwandeln.\n",
        "- `input_shape` ist ein Vektor der Dimension `(784,)`"
      ]
    },
    {
      "cell_type": "code",
      "execution_count": null,
      "metadata": {
        "deletable": false,
        "nbgrader": {
          "grade": false,
          "grade_id": "cell-ee3d61912367ba52",
          "locked": false,
          "schema_version": 3,
          "solution": true,
          "task": false
        },
        "id": "LxFcYOfNcqCf"
      },
      "outputs": [],
      "source": [
        "mnist_model = None\n",
        "\n",
        "# YOUR CODE HERE\n",
        "raise NotImplementedError()"
      ]
    },
    {
      "cell_type": "code",
      "execution_count": null,
      "metadata": {
        "deletable": false,
        "editable": false,
        "nbgrader": {
          "grade": true,
          "grade_id": "cell-9f1b71a062361e10",
          "locked": true,
          "points": 1,
          "schema_version": 3,
          "solution": false,
          "task": false
        },
        "id": "LKSyd28TcqCf"
      },
      "outputs": [],
      "source": [
        "# Test Cell\n",
        "#----------\n",
        "\n",
        "assert type(mnist_model) == models.Sequential\n",
        "assert mnist_model.built, 'The model is not built'\n",
        "assert len(mnist_model.layers) > 2, 'You should have at least one hidden layer'\n",
        "assert mnist_model.input_shape[1:] == X_train[0].shape, 'Input must match the features of the image'\n",
        "assert mnist_model.output_shape[1] == 10, 'Output must match the number of classes'"
      ]
    },
    {
      "cell_type": "markdown",
      "metadata": {
        "id": "DQQ1Y5IRcqCf"
      },
      "source": [
        "### Modell Kompilieren\n",
        "Verwenden Sie `compile` um den `optimizer`, die `loss` Funktion und die `metrics` festzulegen.\n",
        "\n",
        "*Hinweise:*\n",
        "- Da wir `softmax` verwenden, wählen wir die Kostenfunktion `categorical_crossentropy`.\n",
        "- `accuracy` ist an dieser Stelle eine gute Metrik für die Klassifikation"
      ]
    },
    {
      "cell_type": "code",
      "execution_count": null,
      "metadata": {
        "deletable": false,
        "nbgrader": {
          "grade": false,
          "grade_id": "cell-f41104f1f759e66f",
          "locked": false,
          "schema_version": 3,
          "solution": true,
          "task": false
        },
        "id": "G5ABd8mFcqCg"
      },
      "outputs": [],
      "source": [
        "# YOUR CODE HERE\n",
        "raise NotImplementedError()"
      ]
    },
    {
      "cell_type": "code",
      "execution_count": null,
      "metadata": {
        "deletable": false,
        "editable": false,
        "nbgrader": {
          "grade": true,
          "grade_id": "cell-6e6195d6ba6fa627",
          "locked": true,
          "points": 1,
          "schema_version": 3,
          "solution": false,
          "task": false
        },
        "id": "v09fX8AfcqCg"
      },
      "outputs": [],
      "source": [
        "# Test Cell\n",
        "#----------\n",
        "\n",
        "\n",
        "assert mnist_model.loss\n",
        "assert mnist_model.optimizer"
      ]
    },
    {
      "cell_type": "markdown",
      "metadata": {
        "id": "keBKOUBgcqCg"
      },
      "source": [
        "### Training\n",
        "Trainieren Sie das Modell mit der `fit` Funktion."
      ]
    },
    {
      "cell_type": "code",
      "execution_count": null,
      "metadata": {
        "deletable": false,
        "nbgrader": {
          "grade": false,
          "grade_id": "cell-9c7096937405635f",
          "locked": false,
          "schema_version": 3,
          "solution": true,
          "task": false
        },
        "id": "jhahkmTScqCg"
      },
      "outputs": [],
      "source": [
        "# YOUR CODE HERE\n",
        "raise NotImplementedError()"
      ]
    },
    {
      "cell_type": "code",
      "execution_count": null,
      "metadata": {
        "deletable": false,
        "editable": false,
        "nbgrader": {
          "grade": true,
          "grade_id": "cell-fc3dc3a7dd085783",
          "locked": true,
          "points": 1,
          "schema_version": 3,
          "solution": false,
          "task": false
        },
        "id": "gO3Uuy4hcqCg"
      },
      "outputs": [],
      "source": [
        "# Test Cell\n",
        "#----------\n",
        "\n",
        "assert len(mnist_model.history.epoch) >= 2"
      ]
    },
    {
      "cell_type": "markdown",
      "metadata": {
        "id": "zF54C4C-cqCg"
      },
      "source": [
        "### Testen\n",
        "Evaluieren Sie das Modell mit der `evaluate` Funktion:"
      ]
    },
    {
      "cell_type": "code",
      "execution_count": null,
      "metadata": {
        "deletable": false,
        "nbgrader": {
          "grade": false,
          "grade_id": "cell-daf429a21c6e809b",
          "locked": false,
          "schema_version": 3,
          "solution": true,
          "task": false
        },
        "id": "s67ln2qkcqCg"
      },
      "outputs": [],
      "source": [
        "loss, acc = [None]*2\n",
        "\n",
        "# YOUR CODE HERE\n",
        "raise NotImplementedError()\n",
        "print(\"loss: %.4f - accuracy: %.4f \" %(loss, acc))"
      ]
    },
    {
      "cell_type": "markdown",
      "metadata": {
        "id": "PWvgq3WscqCg"
      },
      "source": [
        "### Visualisierung"
      ]
    },
    {
      "cell_type": "code",
      "execution_count": null,
      "metadata": {
        "id": "j2geAabwcqCg"
      },
      "outputs": [],
      "source": [
        "img_i = np.random.randint(10000, size=8)\n",
        "fig, ax = plt.subplots(1, 8, figsize=(18,3))\n",
        "for i, j in enumerate(img_i):\n",
        "    ax[i].set_title('True: %d\\nPredicted: %d' %(np.argmax(y_test[j]),\n",
        "                np.argmax(mnist_model.predict(X_test[j].reshape(1, -1)), axis=-1)))\n",
        "    ax[i].axis('off')\n",
        "    ax[i].imshow(X_test[j].reshape(28,28), cmap='gray')\n",
        "plt.show()"
      ]
    },
    {
      "cell_type": "code",
      "execution_count": null,
      "metadata": {
        "id": "HWM8_S8EcqCg"
      },
      "outputs": [],
      "source": [
        "mnist_model.summary()"
      ]
    },
    {
      "cell_type": "markdown",
      "metadata": {
        "id": "zDItls35cqCh"
      },
      "source": [
        "## Referenzen:\n",
        "[1] M. Berthold, C. Borgelt, F. Höppner and F. Klawonn, Guide to Intelligent Data Analysis, London: Springer-Verlag, 2010.  \n",
        "[2] A. Ng, Machine Learning Yearning, deeplearning.ai, 2018.  \n",
        "\n",
        "**Tipp:** Schauen Sie sich die Playlist von *3Blue1Brown* über Neuronale Netze auf [Youtube](https://www.youtube.com/playlist?list=PLZHQObOWTQDNU6R1_67000Dx_ZCJB-3pi) an"
      ]
    }
  ],
  "metadata": {
    "kernelspec": {
      "display_name": "Python 3 (ipykernel)",
      "language": "python",
      "name": "python3"
    },
    "language_info": {
      "codemirror_mode": {
        "name": "ipython",
        "version": 3
      },
      "file_extension": ".py",
      "mimetype": "text/x-python",
      "name": "python",
      "nbconvert_exporter": "python",
      "pygments_lexer": "ipython3",
      "version": "3.10.8"
    },
    "varInspector": {
      "cols": {
        "lenName": 16,
        "lenType": 16,
        "lenVar": 40
      },
      "kernels_config": {
        "python": {
          "delete_cmd_postfix": "",
          "delete_cmd_prefix": "del ",
          "library": "var_list.py",
          "varRefreshCmd": "print(var_dic_list())"
        },
        "r": {
          "delete_cmd_postfix": ") ",
          "delete_cmd_prefix": "rm(",
          "library": "var_list.r",
          "varRefreshCmd": "cat(var_dic_list()) "
        }
      },
      "types_to_exclude": [
        "module",
        "function",
        "builtin_function_or_method",
        "instance",
        "_Feature"
      ],
      "window_display": false
    },
    "colab": {
      "provenance": []
    }
  },
  "nbformat": 4,
  "nbformat_minor": 0
}